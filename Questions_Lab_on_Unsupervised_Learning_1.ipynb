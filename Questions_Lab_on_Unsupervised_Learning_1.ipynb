{
  "nbformat": 4,
  "nbformat_minor": 0,
  "metadata": {
    "colab": {
      "name": "Questions - Lab on Unsupervised Learning-1",
      "provenance": [],
      "collapsed_sections": [],
      "authorship_tag": "ABX9TyOc8L7loBHaLZjnn28g0puP",
      "include_colab_link": true
    },
    "kernelspec": {
      "name": "python3",
      "display_name": "Python 3"
    }
  },
  "cells": [
    {
      "cell_type": "markdown",
      "metadata": {
        "id": "view-in-github",
        "colab_type": "text"
      },
      "source": [
        "<a href=\"https://colab.research.google.com/github/malaya12/mockito/blob/master/Questions_Lab_on_Unsupervised_Learning_1.ipynb\" target=\"_parent\"><img src=\"https://colab.research.google.com/assets/colab-badge.svg\" alt=\"Open In Colab\"/></a>"
      ]
    },
    {
      "cell_type": "code",
      "metadata": {
        "id": "Gp-_yARGn_0z",
        "colab_type": "code",
        "colab": {
          "base_uri": "https://localhost:8080/",
          "height": 34
        },
        "outputId": "b7da2481-8ab8-4d22-a4bb-2c5c854a329a"
      },
      "source": [
        "from google.colab import drive\n",
        "drive.mount('/content/drive')"
      ],
      "execution_count": 166,
      "outputs": [
        {
          "output_type": "stream",
          "text": [
            "Drive already mounted at /content/drive; to attempt to forcibly remount, call drive.mount(\"/content/drive\", force_remount=True).\n"
          ],
          "name": "stdout"
        }
      ]
    },
    {
      "cell_type": "code",
      "metadata": {
        "id": "fq8xct6wo02P",
        "colab_type": "code",
        "colab": {}
      },
      "source": [
        "import pandas as pd\n",
        "data_df = pd.read_csv(\"/content/drive/My Drive/Rohan Abhilasha/AIML/breast-cancer-wisconsin-data.csv\")"
      ],
      "execution_count": 167,
      "outputs": []
    },
    {
      "cell_type": "markdown",
      "metadata": {
        "id": "5knqnM9Vs0yS",
        "colab_type": "text"
      },
      "source": [
        "Q1. Load the Data file ( Breast Cancer CSV) into Python DataFrame and view top 10 rows\n"
      ]
    },
    {
      "cell_type": "code",
      "metadata": {
        "id": "x7wYTIAus5V3",
        "colab_type": "code",
        "colab": {
          "base_uri": "https://localhost:8080/",
          "height": 360
        },
        "outputId": "2946a2eb-467e-4ead-c476-59ae34cea20f"
      },
      "source": [
        "data_df.head(10)"
      ],
      "execution_count": 168,
      "outputs": [
        {
          "output_type": "execute_result",
          "data": {
            "text/html": [
              "<div>\n",
              "<style scoped>\n",
              "    .dataframe tbody tr th:only-of-type {\n",
              "        vertical-align: middle;\n",
              "    }\n",
              "\n",
              "    .dataframe tbody tr th {\n",
              "        vertical-align: top;\n",
              "    }\n",
              "\n",
              "    .dataframe thead th {\n",
              "        text-align: right;\n",
              "    }\n",
              "</style>\n",
              "<table border=\"1\" class=\"dataframe\">\n",
              "  <thead>\n",
              "    <tr style=\"text-align: right;\">\n",
              "      <th></th>\n",
              "      <th>ID</th>\n",
              "      <th>ClumpThickness</th>\n",
              "      <th>Cell Size</th>\n",
              "      <th>Cell Shape</th>\n",
              "      <th>Marginal Adhesion</th>\n",
              "      <th>Single Epithelial Cell Size</th>\n",
              "      <th>Bare Nuclei</th>\n",
              "      <th>Normal Nucleoli</th>\n",
              "      <th>Bland Chromatin</th>\n",
              "      <th>Mitoses</th>\n",
              "      <th>Class</th>\n",
              "    </tr>\n",
              "  </thead>\n",
              "  <tbody>\n",
              "    <tr>\n",
              "      <th>0</th>\n",
              "      <td>1000025</td>\n",
              "      <td>5</td>\n",
              "      <td>1</td>\n",
              "      <td>1</td>\n",
              "      <td>1</td>\n",
              "      <td>2</td>\n",
              "      <td>1</td>\n",
              "      <td>3</td>\n",
              "      <td>1</td>\n",
              "      <td>1</td>\n",
              "      <td>2</td>\n",
              "    </tr>\n",
              "    <tr>\n",
              "      <th>1</th>\n",
              "      <td>1002945</td>\n",
              "      <td>5</td>\n",
              "      <td>4</td>\n",
              "      <td>4</td>\n",
              "      <td>5</td>\n",
              "      <td>7</td>\n",
              "      <td>10</td>\n",
              "      <td>3</td>\n",
              "      <td>2</td>\n",
              "      <td>1</td>\n",
              "      <td>2</td>\n",
              "    </tr>\n",
              "    <tr>\n",
              "      <th>2</th>\n",
              "      <td>1015425</td>\n",
              "      <td>3</td>\n",
              "      <td>1</td>\n",
              "      <td>1</td>\n",
              "      <td>1</td>\n",
              "      <td>2</td>\n",
              "      <td>2</td>\n",
              "      <td>3</td>\n",
              "      <td>1</td>\n",
              "      <td>1</td>\n",
              "      <td>2</td>\n",
              "    </tr>\n",
              "    <tr>\n",
              "      <th>3</th>\n",
              "      <td>1016277</td>\n",
              "      <td>6</td>\n",
              "      <td>8</td>\n",
              "      <td>8</td>\n",
              "      <td>1</td>\n",
              "      <td>3</td>\n",
              "      <td>4</td>\n",
              "      <td>3</td>\n",
              "      <td>7</td>\n",
              "      <td>1</td>\n",
              "      <td>2</td>\n",
              "    </tr>\n",
              "    <tr>\n",
              "      <th>4</th>\n",
              "      <td>1017023</td>\n",
              "      <td>4</td>\n",
              "      <td>1</td>\n",
              "      <td>1</td>\n",
              "      <td>3</td>\n",
              "      <td>2</td>\n",
              "      <td>1</td>\n",
              "      <td>3</td>\n",
              "      <td>1</td>\n",
              "      <td>1</td>\n",
              "      <td>2</td>\n",
              "    </tr>\n",
              "    <tr>\n",
              "      <th>5</th>\n",
              "      <td>1017122</td>\n",
              "      <td>8</td>\n",
              "      <td>10</td>\n",
              "      <td>10</td>\n",
              "      <td>8</td>\n",
              "      <td>7</td>\n",
              "      <td>10</td>\n",
              "      <td>9</td>\n",
              "      <td>7</td>\n",
              "      <td>1</td>\n",
              "      <td>4</td>\n",
              "    </tr>\n",
              "    <tr>\n",
              "      <th>6</th>\n",
              "      <td>1018099</td>\n",
              "      <td>1</td>\n",
              "      <td>1</td>\n",
              "      <td>1</td>\n",
              "      <td>1</td>\n",
              "      <td>2</td>\n",
              "      <td>10</td>\n",
              "      <td>3</td>\n",
              "      <td>1</td>\n",
              "      <td>1</td>\n",
              "      <td>2</td>\n",
              "    </tr>\n",
              "    <tr>\n",
              "      <th>7</th>\n",
              "      <td>1018561</td>\n",
              "      <td>2</td>\n",
              "      <td>1</td>\n",
              "      <td>2</td>\n",
              "      <td>1</td>\n",
              "      <td>2</td>\n",
              "      <td>1</td>\n",
              "      <td>3</td>\n",
              "      <td>1</td>\n",
              "      <td>1</td>\n",
              "      <td>2</td>\n",
              "    </tr>\n",
              "    <tr>\n",
              "      <th>8</th>\n",
              "      <td>1033078</td>\n",
              "      <td>2</td>\n",
              "      <td>1</td>\n",
              "      <td>1</td>\n",
              "      <td>1</td>\n",
              "      <td>2</td>\n",
              "      <td>1</td>\n",
              "      <td>1</td>\n",
              "      <td>1</td>\n",
              "      <td>5</td>\n",
              "      <td>2</td>\n",
              "    </tr>\n",
              "    <tr>\n",
              "      <th>9</th>\n",
              "      <td>1033078</td>\n",
              "      <td>4</td>\n",
              "      <td>2</td>\n",
              "      <td>1</td>\n",
              "      <td>1</td>\n",
              "      <td>2</td>\n",
              "      <td>1</td>\n",
              "      <td>2</td>\n",
              "      <td>1</td>\n",
              "      <td>1</td>\n",
              "      <td>2</td>\n",
              "    </tr>\n",
              "  </tbody>\n",
              "</table>\n",
              "</div>"
            ],
            "text/plain": [
              "        ID  ClumpThickness  Cell Size  ...  Bland Chromatin  Mitoses  Class\n",
              "0  1000025               5          1  ...                1        1      2\n",
              "1  1002945               5          4  ...                2        1      2\n",
              "2  1015425               3          1  ...                1        1      2\n",
              "3  1016277               6          8  ...                7        1      2\n",
              "4  1017023               4          1  ...                1        1      2\n",
              "5  1017122               8         10  ...                7        1      4\n",
              "6  1018099               1          1  ...                1        1      2\n",
              "7  1018561               2          1  ...                1        1      2\n",
              "8  1033078               2          1  ...                1        5      2\n",
              "9  1033078               4          2  ...                1        1      2\n",
              "\n",
              "[10 rows x 11 columns]"
            ]
          },
          "metadata": {
            "tags": []
          },
          "execution_count": 168
        }
      ]
    },
    {
      "cell_type": "code",
      "metadata": {
        "id": "hKiPrt_Wt03D",
        "colab_type": "code",
        "colab": {}
      },
      "source": [
        "# Id columns is to identify rows hence can be skipped in analysis\n",
        "  # All columns have numerical values\n",
        "  # Class would be the target variable. Should be removed when PCA is done"
      ],
      "execution_count": 169,
      "outputs": []
    },
    {
      "cell_type": "markdown",
      "metadata": {
        "id": "TsfKi9Xvt6sm",
        "colab_type": "text"
      },
      "source": [
        "Q2 Print the datatypes of each column and the shape of the dataset. Perform descriptive analysis"
      ]
    },
    {
      "cell_type": "code",
      "metadata": {
        "id": "TxhB03xWt2sP",
        "colab_type": "code",
        "colab": {
          "base_uri": "https://localhost:8080/",
          "height": 218
        },
        "outputId": "3af991c3-f9ae-4412-a447-6bb46f97eb32"
      },
      "source": [
        "data_df.dtypes"
      ],
      "execution_count": 170,
      "outputs": [
        {
          "output_type": "execute_result",
          "data": {
            "text/plain": [
              "ID                              int64\n",
              "ClumpThickness                  int64\n",
              "Cell Size                       int64\n",
              "Cell Shape                      int64\n",
              "Marginal Adhesion               int64\n",
              "Single Epithelial Cell Size     int64\n",
              "Bare Nuclei                    object\n",
              "Normal Nucleoli                 int64\n",
              "Bland Chromatin                 int64\n",
              "Mitoses                         int64\n",
              "Class                           int64\n",
              "dtype: object"
            ]
          },
          "metadata": {
            "tags": []
          },
          "execution_count": 170
        }
      ]
    },
    {
      "cell_type": "code",
      "metadata": {
        "id": "WINMEbTnuEGD",
        "colab_type": "code",
        "colab": {
          "base_uri": "https://localhost:8080/",
          "height": 34
        },
        "outputId": "8438a871-0be5-483b-dbe6-b8baed4cdcad"
      },
      "source": [
        "data_df.shape"
      ],
      "execution_count": 171,
      "outputs": [
        {
          "output_type": "execute_result",
          "data": {
            "text/plain": [
              "(699, 11)"
            ]
          },
          "metadata": {
            "tags": []
          },
          "execution_count": 171
        }
      ]
    },
    {
      "cell_type": "code",
      "metadata": {
        "id": "UpQwQYueuRlg",
        "colab_type": "code",
        "colab": {
          "base_uri": "https://localhost:8080/",
          "height": 319
        },
        "outputId": "7818373f-b24a-4286-b644-c5c0c213e1ff"
      },
      "source": [
        "data_df.info()"
      ],
      "execution_count": 172,
      "outputs": [
        {
          "output_type": "stream",
          "text": [
            "<class 'pandas.core.frame.DataFrame'>\n",
            "RangeIndex: 699 entries, 0 to 698\n",
            "Data columns (total 11 columns):\n",
            " #   Column                       Non-Null Count  Dtype \n",
            "---  ------                       --------------  ----- \n",
            " 0   ID                           699 non-null    int64 \n",
            " 1   ClumpThickness               699 non-null    int64 \n",
            " 2   Cell Size                    699 non-null    int64 \n",
            " 3   Cell Shape                   699 non-null    int64 \n",
            " 4   Marginal Adhesion            699 non-null    int64 \n",
            " 5   Single Epithelial Cell Size  699 non-null    int64 \n",
            " 6   Bare Nuclei                  699 non-null    object\n",
            " 7   Normal Nucleoli              699 non-null    int64 \n",
            " 8   Bland Chromatin              699 non-null    int64 \n",
            " 9   Mitoses                      699 non-null    int64 \n",
            " 10  Class                        699 non-null    int64 \n",
            "dtypes: int64(10), object(1)\n",
            "memory usage: 60.2+ KB\n"
          ],
          "name": "stdout"
        }
      ]
    },
    {
      "cell_type": "code",
      "metadata": {
        "id": "b5H4_qVmuzNm",
        "colab_type": "code",
        "colab": {
          "base_uri": "https://localhost:8080/",
          "height": 343
        },
        "outputId": "2fdd627e-c890-4d45-bffe-07e631791f94"
      },
      "source": [
        "data_df.describe().T"
      ],
      "execution_count": 173,
      "outputs": [
        {
          "output_type": "execute_result",
          "data": {
            "text/html": [
              "<div>\n",
              "<style scoped>\n",
              "    .dataframe tbody tr th:only-of-type {\n",
              "        vertical-align: middle;\n",
              "    }\n",
              "\n",
              "    .dataframe tbody tr th {\n",
              "        vertical-align: top;\n",
              "    }\n",
              "\n",
              "    .dataframe thead th {\n",
              "        text-align: right;\n",
              "    }\n",
              "</style>\n",
              "<table border=\"1\" class=\"dataframe\">\n",
              "  <thead>\n",
              "    <tr style=\"text-align: right;\">\n",
              "      <th></th>\n",
              "      <th>count</th>\n",
              "      <th>mean</th>\n",
              "      <th>std</th>\n",
              "      <th>min</th>\n",
              "      <th>25%</th>\n",
              "      <th>50%</th>\n",
              "      <th>75%</th>\n",
              "      <th>max</th>\n",
              "    </tr>\n",
              "  </thead>\n",
              "  <tbody>\n",
              "    <tr>\n",
              "      <th>ID</th>\n",
              "      <td>699.0</td>\n",
              "      <td>1.071704e+06</td>\n",
              "      <td>617095.729819</td>\n",
              "      <td>61634.0</td>\n",
              "      <td>870688.5</td>\n",
              "      <td>1171710.0</td>\n",
              "      <td>1238298.0</td>\n",
              "      <td>13454352.0</td>\n",
              "    </tr>\n",
              "    <tr>\n",
              "      <th>ClumpThickness</th>\n",
              "      <td>699.0</td>\n",
              "      <td>4.417740e+00</td>\n",
              "      <td>2.815741</td>\n",
              "      <td>1.0</td>\n",
              "      <td>2.0</td>\n",
              "      <td>4.0</td>\n",
              "      <td>6.0</td>\n",
              "      <td>10.0</td>\n",
              "    </tr>\n",
              "    <tr>\n",
              "      <th>Cell Size</th>\n",
              "      <td>699.0</td>\n",
              "      <td>3.134478e+00</td>\n",
              "      <td>3.051459</td>\n",
              "      <td>1.0</td>\n",
              "      <td>1.0</td>\n",
              "      <td>1.0</td>\n",
              "      <td>5.0</td>\n",
              "      <td>10.0</td>\n",
              "    </tr>\n",
              "    <tr>\n",
              "      <th>Cell Shape</th>\n",
              "      <td>699.0</td>\n",
              "      <td>3.207439e+00</td>\n",
              "      <td>2.971913</td>\n",
              "      <td>1.0</td>\n",
              "      <td>1.0</td>\n",
              "      <td>1.0</td>\n",
              "      <td>5.0</td>\n",
              "      <td>10.0</td>\n",
              "    </tr>\n",
              "    <tr>\n",
              "      <th>Marginal Adhesion</th>\n",
              "      <td>699.0</td>\n",
              "      <td>2.806867e+00</td>\n",
              "      <td>2.855379</td>\n",
              "      <td>1.0</td>\n",
              "      <td>1.0</td>\n",
              "      <td>1.0</td>\n",
              "      <td>4.0</td>\n",
              "      <td>10.0</td>\n",
              "    </tr>\n",
              "    <tr>\n",
              "      <th>Single Epithelial Cell Size</th>\n",
              "      <td>699.0</td>\n",
              "      <td>3.216023e+00</td>\n",
              "      <td>2.214300</td>\n",
              "      <td>1.0</td>\n",
              "      <td>2.0</td>\n",
              "      <td>2.0</td>\n",
              "      <td>4.0</td>\n",
              "      <td>10.0</td>\n",
              "    </tr>\n",
              "    <tr>\n",
              "      <th>Normal Nucleoli</th>\n",
              "      <td>699.0</td>\n",
              "      <td>3.437768e+00</td>\n",
              "      <td>2.438364</td>\n",
              "      <td>1.0</td>\n",
              "      <td>2.0</td>\n",
              "      <td>3.0</td>\n",
              "      <td>5.0</td>\n",
              "      <td>10.0</td>\n",
              "    </tr>\n",
              "    <tr>\n",
              "      <th>Bland Chromatin</th>\n",
              "      <td>699.0</td>\n",
              "      <td>2.866953e+00</td>\n",
              "      <td>3.053634</td>\n",
              "      <td>1.0</td>\n",
              "      <td>1.0</td>\n",
              "      <td>1.0</td>\n",
              "      <td>4.0</td>\n",
              "      <td>10.0</td>\n",
              "    </tr>\n",
              "    <tr>\n",
              "      <th>Mitoses</th>\n",
              "      <td>699.0</td>\n",
              "      <td>1.589413e+00</td>\n",
              "      <td>1.715078</td>\n",
              "      <td>1.0</td>\n",
              "      <td>1.0</td>\n",
              "      <td>1.0</td>\n",
              "      <td>1.0</td>\n",
              "      <td>10.0</td>\n",
              "    </tr>\n",
              "    <tr>\n",
              "      <th>Class</th>\n",
              "      <td>699.0</td>\n",
              "      <td>2.689557e+00</td>\n",
              "      <td>0.951273</td>\n",
              "      <td>2.0</td>\n",
              "      <td>2.0</td>\n",
              "      <td>2.0</td>\n",
              "      <td>4.0</td>\n",
              "      <td>4.0</td>\n",
              "    </tr>\n",
              "  </tbody>\n",
              "</table>\n",
              "</div>"
            ],
            "text/plain": [
              "                             count          mean  ...        75%         max\n",
              "ID                           699.0  1.071704e+06  ...  1238298.0  13454352.0\n",
              "ClumpThickness               699.0  4.417740e+00  ...        6.0        10.0\n",
              "Cell Size                    699.0  3.134478e+00  ...        5.0        10.0\n",
              "Cell Shape                   699.0  3.207439e+00  ...        5.0        10.0\n",
              "Marginal Adhesion            699.0  2.806867e+00  ...        4.0        10.0\n",
              "Single Epithelial Cell Size  699.0  3.216023e+00  ...        4.0        10.0\n",
              "Normal Nucleoli              699.0  3.437768e+00  ...        5.0        10.0\n",
              "Bland Chromatin              699.0  2.866953e+00  ...        4.0        10.0\n",
              "Mitoses                      699.0  1.589413e+00  ...        1.0        10.0\n",
              "Class                        699.0  2.689557e+00  ...        4.0         4.0\n",
              "\n",
              "[10 rows x 8 columns]"
            ]
          },
          "metadata": {
            "tags": []
          },
          "execution_count": 173
        }
      ]
    },
    {
      "cell_type": "markdown",
      "metadata": {
        "id": "L9Bggm3x8iKQ",
        "colab_type": "text"
      },
      "source": [
        "Q3 Check for missing value check, incorrect data, duplicate data and perform imputation with mean, median, mode as necessary. "
      ]
    },
    {
      "cell_type": "code",
      "metadata": {
        "id": "7lmhRCs18m7e",
        "colab_type": "code",
        "colab": {
          "base_uri": "https://localhost:8080/",
          "height": 50
        },
        "outputId": "0cefb2c0-0aa6-43f1-bd62-d7a04ed9c589"
      },
      "source": [
        "data_df['Bare Nuclei'].unique()"
      ],
      "execution_count": 174,
      "outputs": [
        {
          "output_type": "execute_result",
          "data": {
            "text/plain": [
              "array(['1', '10', '2', '4', '3', '9', '7', '?', '5', '8', '6'],\n",
              "      dtype=object)"
            ]
          },
          "metadata": {
            "tags": []
          },
          "execution_count": 174
        }
      ]
    },
    {
      "cell_type": "markdown",
      "metadata": {
        "id": "6SnHWWW49gJx",
        "colab_type": "text"
      },
      "source": [
        "Lets check for missing valus as well"
      ]
    },
    {
      "cell_type": "code",
      "metadata": {
        "id": "kh-02Z-m84q5",
        "colab_type": "code",
        "colab": {
          "base_uri": "https://localhost:8080/",
          "height": 218
        },
        "outputId": "8a5e3be4-d6d1-477a-8778-cb422fb2ecf6"
      },
      "source": [
        "data_df.isna().sum()"
      ],
      "execution_count": 175,
      "outputs": [
        {
          "output_type": "execute_result",
          "data": {
            "text/plain": [
              "ID                             0\n",
              "ClumpThickness                 0\n",
              "Cell Size                      0\n",
              "Cell Shape                     0\n",
              "Marginal Adhesion              0\n",
              "Single Epithelial Cell Size    0\n",
              "Bare Nuclei                    0\n",
              "Normal Nucleoli                0\n",
              "Bland Chromatin                0\n",
              "Mitoses                        0\n",
              "Class                          0\n",
              "dtype: int64"
            ]
          },
          "metadata": {
            "tags": []
          },
          "execution_count": 175
        }
      ]
    },
    {
      "cell_type": "code",
      "metadata": {
        "id": "Tsb2fRR79xlO",
        "colab_type": "code",
        "colab": {}
      },
      "source": [
        "#No mising value found in the column, only question mark in Bare Nuclei so we can tack it in each column and replace it"
      ],
      "execution_count": 176,
      "outputs": []
    },
    {
      "cell_type": "code",
      "metadata": {
        "id": "jluruKDw96x_",
        "colab_type": "code",
        "colab": {
          "base_uri": "https://localhost:8080/",
          "height": 218
        },
        "outputId": "6e519904-ee5a-47d9-8b5a-ddb700774406"
      },
      "source": [
        "data_df['Bare Nuclei'].value_counts()"
      ],
      "execution_count": 177,
      "outputs": [
        {
          "output_type": "execute_result",
          "data": {
            "text/plain": [
              "1     402\n",
              "10    132\n",
              "2      30\n",
              "5      30\n",
              "3      28\n",
              "8      21\n",
              "4      19\n",
              "?      16\n",
              "9       9\n",
              "7       8\n",
              "6       4\n",
              "Name: Bare Nuclei, dtype: int64"
            ]
          },
          "metadata": {
            "tags": []
          },
          "execution_count": 177
        }
      ]
    },
    {
      "cell_type": "code",
      "metadata": {
        "id": "KIuRScDz-Jg8",
        "colab_type": "code",
        "colab": {
          "base_uri": "https://localhost:8080/",
          "height": 538
        },
        "outputId": "ece0f753-d3b4-46d5-adf0-79152a84e947"
      },
      "source": [
        "data_df[data_df[\"Bare Nuclei\"] == '?']"
      ],
      "execution_count": 178,
      "outputs": [
        {
          "output_type": "execute_result",
          "data": {
            "text/html": [
              "<div>\n",
              "<style scoped>\n",
              "    .dataframe tbody tr th:only-of-type {\n",
              "        vertical-align: middle;\n",
              "    }\n",
              "\n",
              "    .dataframe tbody tr th {\n",
              "        vertical-align: top;\n",
              "    }\n",
              "\n",
              "    .dataframe thead th {\n",
              "        text-align: right;\n",
              "    }\n",
              "</style>\n",
              "<table border=\"1\" class=\"dataframe\">\n",
              "  <thead>\n",
              "    <tr style=\"text-align: right;\">\n",
              "      <th></th>\n",
              "      <th>ID</th>\n",
              "      <th>ClumpThickness</th>\n",
              "      <th>Cell Size</th>\n",
              "      <th>Cell Shape</th>\n",
              "      <th>Marginal Adhesion</th>\n",
              "      <th>Single Epithelial Cell Size</th>\n",
              "      <th>Bare Nuclei</th>\n",
              "      <th>Normal Nucleoli</th>\n",
              "      <th>Bland Chromatin</th>\n",
              "      <th>Mitoses</th>\n",
              "      <th>Class</th>\n",
              "    </tr>\n",
              "  </thead>\n",
              "  <tbody>\n",
              "    <tr>\n",
              "      <th>23</th>\n",
              "      <td>1057013</td>\n",
              "      <td>8</td>\n",
              "      <td>4</td>\n",
              "      <td>5</td>\n",
              "      <td>1</td>\n",
              "      <td>2</td>\n",
              "      <td>?</td>\n",
              "      <td>7</td>\n",
              "      <td>3</td>\n",
              "      <td>1</td>\n",
              "      <td>4</td>\n",
              "    </tr>\n",
              "    <tr>\n",
              "      <th>40</th>\n",
              "      <td>1096800</td>\n",
              "      <td>6</td>\n",
              "      <td>6</td>\n",
              "      <td>6</td>\n",
              "      <td>9</td>\n",
              "      <td>6</td>\n",
              "      <td>?</td>\n",
              "      <td>7</td>\n",
              "      <td>8</td>\n",
              "      <td>1</td>\n",
              "      <td>2</td>\n",
              "    </tr>\n",
              "    <tr>\n",
              "      <th>139</th>\n",
              "      <td>1183246</td>\n",
              "      <td>1</td>\n",
              "      <td>1</td>\n",
              "      <td>1</td>\n",
              "      <td>1</td>\n",
              "      <td>1</td>\n",
              "      <td>?</td>\n",
              "      <td>2</td>\n",
              "      <td>1</td>\n",
              "      <td>1</td>\n",
              "      <td>2</td>\n",
              "    </tr>\n",
              "    <tr>\n",
              "      <th>145</th>\n",
              "      <td>1184840</td>\n",
              "      <td>1</td>\n",
              "      <td>1</td>\n",
              "      <td>3</td>\n",
              "      <td>1</td>\n",
              "      <td>2</td>\n",
              "      <td>?</td>\n",
              "      <td>2</td>\n",
              "      <td>1</td>\n",
              "      <td>1</td>\n",
              "      <td>2</td>\n",
              "    </tr>\n",
              "    <tr>\n",
              "      <th>158</th>\n",
              "      <td>1193683</td>\n",
              "      <td>1</td>\n",
              "      <td>1</td>\n",
              "      <td>2</td>\n",
              "      <td>1</td>\n",
              "      <td>3</td>\n",
              "      <td>?</td>\n",
              "      <td>1</td>\n",
              "      <td>1</td>\n",
              "      <td>1</td>\n",
              "      <td>2</td>\n",
              "    </tr>\n",
              "    <tr>\n",
              "      <th>164</th>\n",
              "      <td>1197510</td>\n",
              "      <td>5</td>\n",
              "      <td>1</td>\n",
              "      <td>1</td>\n",
              "      <td>1</td>\n",
              "      <td>2</td>\n",
              "      <td>?</td>\n",
              "      <td>3</td>\n",
              "      <td>1</td>\n",
              "      <td>1</td>\n",
              "      <td>2</td>\n",
              "    </tr>\n",
              "    <tr>\n",
              "      <th>235</th>\n",
              "      <td>1241232</td>\n",
              "      <td>3</td>\n",
              "      <td>1</td>\n",
              "      <td>4</td>\n",
              "      <td>1</td>\n",
              "      <td>2</td>\n",
              "      <td>?</td>\n",
              "      <td>3</td>\n",
              "      <td>1</td>\n",
              "      <td>1</td>\n",
              "      <td>2</td>\n",
              "    </tr>\n",
              "    <tr>\n",
              "      <th>249</th>\n",
              "      <td>169356</td>\n",
              "      <td>3</td>\n",
              "      <td>1</td>\n",
              "      <td>1</td>\n",
              "      <td>1</td>\n",
              "      <td>2</td>\n",
              "      <td>?</td>\n",
              "      <td>3</td>\n",
              "      <td>1</td>\n",
              "      <td>1</td>\n",
              "      <td>2</td>\n",
              "    </tr>\n",
              "    <tr>\n",
              "      <th>275</th>\n",
              "      <td>432809</td>\n",
              "      <td>3</td>\n",
              "      <td>1</td>\n",
              "      <td>3</td>\n",
              "      <td>1</td>\n",
              "      <td>2</td>\n",
              "      <td>?</td>\n",
              "      <td>2</td>\n",
              "      <td>1</td>\n",
              "      <td>1</td>\n",
              "      <td>2</td>\n",
              "    </tr>\n",
              "    <tr>\n",
              "      <th>292</th>\n",
              "      <td>563649</td>\n",
              "      <td>8</td>\n",
              "      <td>8</td>\n",
              "      <td>8</td>\n",
              "      <td>1</td>\n",
              "      <td>2</td>\n",
              "      <td>?</td>\n",
              "      <td>6</td>\n",
              "      <td>10</td>\n",
              "      <td>1</td>\n",
              "      <td>4</td>\n",
              "    </tr>\n",
              "    <tr>\n",
              "      <th>294</th>\n",
              "      <td>606140</td>\n",
              "      <td>1</td>\n",
              "      <td>1</td>\n",
              "      <td>1</td>\n",
              "      <td>1</td>\n",
              "      <td>2</td>\n",
              "      <td>?</td>\n",
              "      <td>2</td>\n",
              "      <td>1</td>\n",
              "      <td>1</td>\n",
              "      <td>2</td>\n",
              "    </tr>\n",
              "    <tr>\n",
              "      <th>297</th>\n",
              "      <td>61634</td>\n",
              "      <td>5</td>\n",
              "      <td>4</td>\n",
              "      <td>3</td>\n",
              "      <td>1</td>\n",
              "      <td>2</td>\n",
              "      <td>?</td>\n",
              "      <td>2</td>\n",
              "      <td>3</td>\n",
              "      <td>1</td>\n",
              "      <td>2</td>\n",
              "    </tr>\n",
              "    <tr>\n",
              "      <th>315</th>\n",
              "      <td>704168</td>\n",
              "      <td>4</td>\n",
              "      <td>6</td>\n",
              "      <td>5</td>\n",
              "      <td>6</td>\n",
              "      <td>7</td>\n",
              "      <td>?</td>\n",
              "      <td>4</td>\n",
              "      <td>9</td>\n",
              "      <td>1</td>\n",
              "      <td>2</td>\n",
              "    </tr>\n",
              "    <tr>\n",
              "      <th>321</th>\n",
              "      <td>733639</td>\n",
              "      <td>3</td>\n",
              "      <td>1</td>\n",
              "      <td>1</td>\n",
              "      <td>1</td>\n",
              "      <td>2</td>\n",
              "      <td>?</td>\n",
              "      <td>3</td>\n",
              "      <td>1</td>\n",
              "      <td>1</td>\n",
              "      <td>2</td>\n",
              "    </tr>\n",
              "    <tr>\n",
              "      <th>411</th>\n",
              "      <td>1238464</td>\n",
              "      <td>1</td>\n",
              "      <td>1</td>\n",
              "      <td>1</td>\n",
              "      <td>1</td>\n",
              "      <td>1</td>\n",
              "      <td>?</td>\n",
              "      <td>2</td>\n",
              "      <td>1</td>\n",
              "      <td>1</td>\n",
              "      <td>2</td>\n",
              "    </tr>\n",
              "    <tr>\n",
              "      <th>617</th>\n",
              "      <td>1057067</td>\n",
              "      <td>1</td>\n",
              "      <td>1</td>\n",
              "      <td>1</td>\n",
              "      <td>1</td>\n",
              "      <td>1</td>\n",
              "      <td>?</td>\n",
              "      <td>1</td>\n",
              "      <td>1</td>\n",
              "      <td>1</td>\n",
              "      <td>2</td>\n",
              "    </tr>\n",
              "  </tbody>\n",
              "</table>\n",
              "</div>"
            ],
            "text/plain": [
              "          ID  ClumpThickness  Cell Size  ...  Bland Chromatin  Mitoses  Class\n",
              "23   1057013               8          4  ...                3        1      4\n",
              "40   1096800               6          6  ...                8        1      2\n",
              "139  1183246               1          1  ...                1        1      2\n",
              "145  1184840               1          1  ...                1        1      2\n",
              "158  1193683               1          1  ...                1        1      2\n",
              "164  1197510               5          1  ...                1        1      2\n",
              "235  1241232               3          1  ...                1        1      2\n",
              "249   169356               3          1  ...                1        1      2\n",
              "275   432809               3          1  ...                1        1      2\n",
              "292   563649               8          8  ...               10        1      4\n",
              "294   606140               1          1  ...                1        1      2\n",
              "297    61634               5          4  ...                3        1      2\n",
              "315   704168               4          6  ...                9        1      2\n",
              "321   733639               3          1  ...                1        1      2\n",
              "411  1238464               1          1  ...                1        1      2\n",
              "617  1057067               1          1  ...                1        1      2\n",
              "\n",
              "[16 rows x 11 columns]"
            ]
          },
          "metadata": {
            "tags": []
          },
          "execution_count": 178
        }
      ]
    },
    {
      "cell_type": "code",
      "metadata": {
        "id": "ySmhxqnZCO8D",
        "colab_type": "code",
        "colab": {}
      },
      "source": [
        "#We see 16 values are having '?' which is bad data and we have to either delete or impute. Since data is large so we cn even remove.\n",
        "# Since in value count on appeared for 402 times so we can replace it with one"
      ],
      "execution_count": 179,
      "outputs": []
    },
    {
      "cell_type": "code",
      "metadata": {
        "id": "uLD0tRjsCnHZ",
        "colab_type": "code",
        "colab": {}
      },
      "source": [
        "data_df[\"Bare Nuclei\"].replace(\"?\", \"1\", inplace=True)"
      ],
      "execution_count": 180,
      "outputs": []
    },
    {
      "cell_type": "code",
      "metadata": {
        "id": "MlKyDWEuDlD1",
        "colab_type": "code",
        "colab": {
          "base_uri": "https://localhost:8080/",
          "height": 202
        },
        "outputId": "f6d1dd69-4904-461f-bb25-182aa8f48114"
      },
      "source": [
        "data_df[\"Bare Nuclei\"].value_counts()"
      ],
      "execution_count": 181,
      "outputs": [
        {
          "output_type": "execute_result",
          "data": {
            "text/plain": [
              "1     418\n",
              "10    132\n",
              "2      30\n",
              "5      30\n",
              "3      28\n",
              "8      21\n",
              "4      19\n",
              "9       9\n",
              "7       8\n",
              "6       4\n",
              "Name: Bare Nuclei, dtype: int64"
            ]
          },
          "metadata": {
            "tags": []
          },
          "execution_count": 181
        }
      ]
    },
    {
      "cell_type": "code",
      "metadata": {
        "id": "VyY-lAYLDrd1",
        "colab_type": "code",
        "colab": {}
      },
      "source": [
        "#Now remove the duplicate data"
      ],
      "execution_count": 182,
      "outputs": []
    },
    {
      "cell_type": "code",
      "metadata": {
        "id": "PPTr6pCiFf4G",
        "colab_type": "code",
        "colab": {
          "base_uri": "https://localhost:8080/",
          "height": 34
        },
        "outputId": "d39a4467-8d6a-4e54-deb1-76b8c47bda4a"
      },
      "source": [
        "dups = data_df.duplicated()\n",
        "print (\"Number of duplicate value: \", dups.sum())"
      ],
      "execution_count": 183,
      "outputs": [
        {
          "output_type": "stream",
          "text": [
            "Number of duplicate value:  9\n"
          ],
          "name": "stdout"
        }
      ]
    },
    {
      "cell_type": "code",
      "metadata": {
        "id": "4m1qO-8XFkOs",
        "colab_type": "code",
        "colab": {
          "base_uri": "https://localhost:8080/",
          "height": 330
        },
        "outputId": "d6f8c343-45dd-4073-c0f3-87fb7608f020"
      },
      "source": [
        "data_df[dups]"
      ],
      "execution_count": 184,
      "outputs": [
        {
          "output_type": "execute_result",
          "data": {
            "text/html": [
              "<div>\n",
              "<style scoped>\n",
              "    .dataframe tbody tr th:only-of-type {\n",
              "        vertical-align: middle;\n",
              "    }\n",
              "\n",
              "    .dataframe tbody tr th {\n",
              "        vertical-align: top;\n",
              "    }\n",
              "\n",
              "    .dataframe thead th {\n",
              "        text-align: right;\n",
              "    }\n",
              "</style>\n",
              "<table border=\"1\" class=\"dataframe\">\n",
              "  <thead>\n",
              "    <tr style=\"text-align: right;\">\n",
              "      <th></th>\n",
              "      <th>ID</th>\n",
              "      <th>ClumpThickness</th>\n",
              "      <th>Cell Size</th>\n",
              "      <th>Cell Shape</th>\n",
              "      <th>Marginal Adhesion</th>\n",
              "      <th>Single Epithelial Cell Size</th>\n",
              "      <th>Bare Nuclei</th>\n",
              "      <th>Normal Nucleoli</th>\n",
              "      <th>Bland Chromatin</th>\n",
              "      <th>Mitoses</th>\n",
              "      <th>Class</th>\n",
              "    </tr>\n",
              "  </thead>\n",
              "  <tbody>\n",
              "    <tr>\n",
              "      <th>208</th>\n",
              "      <td>1218860</td>\n",
              "      <td>1</td>\n",
              "      <td>1</td>\n",
              "      <td>1</td>\n",
              "      <td>1</td>\n",
              "      <td>1</td>\n",
              "      <td>1</td>\n",
              "      <td>3</td>\n",
              "      <td>1</td>\n",
              "      <td>1</td>\n",
              "      <td>2</td>\n",
              "    </tr>\n",
              "    <tr>\n",
              "      <th>253</th>\n",
              "      <td>1100524</td>\n",
              "      <td>6</td>\n",
              "      <td>10</td>\n",
              "      <td>10</td>\n",
              "      <td>2</td>\n",
              "      <td>8</td>\n",
              "      <td>10</td>\n",
              "      <td>7</td>\n",
              "      <td>3</td>\n",
              "      <td>3</td>\n",
              "      <td>4</td>\n",
              "    </tr>\n",
              "    <tr>\n",
              "      <th>254</th>\n",
              "      <td>1116116</td>\n",
              "      <td>9</td>\n",
              "      <td>10</td>\n",
              "      <td>10</td>\n",
              "      <td>1</td>\n",
              "      <td>10</td>\n",
              "      <td>8</td>\n",
              "      <td>3</td>\n",
              "      <td>3</td>\n",
              "      <td>1</td>\n",
              "      <td>4</td>\n",
              "    </tr>\n",
              "    <tr>\n",
              "      <th>258</th>\n",
              "      <td>1198641</td>\n",
              "      <td>3</td>\n",
              "      <td>1</td>\n",
              "      <td>1</td>\n",
              "      <td>1</td>\n",
              "      <td>2</td>\n",
              "      <td>1</td>\n",
              "      <td>3</td>\n",
              "      <td>1</td>\n",
              "      <td>1</td>\n",
              "      <td>2</td>\n",
              "    </tr>\n",
              "    <tr>\n",
              "      <th>272</th>\n",
              "      <td>320675</td>\n",
              "      <td>3</td>\n",
              "      <td>3</td>\n",
              "      <td>5</td>\n",
              "      <td>2</td>\n",
              "      <td>3</td>\n",
              "      <td>10</td>\n",
              "      <td>7</td>\n",
              "      <td>1</td>\n",
              "      <td>1</td>\n",
              "      <td>4</td>\n",
              "    </tr>\n",
              "    <tr>\n",
              "      <th>322</th>\n",
              "      <td>733639</td>\n",
              "      <td>3</td>\n",
              "      <td>1</td>\n",
              "      <td>1</td>\n",
              "      <td>1</td>\n",
              "      <td>2</td>\n",
              "      <td>1</td>\n",
              "      <td>3</td>\n",
              "      <td>1</td>\n",
              "      <td>1</td>\n",
              "      <td>2</td>\n",
              "    </tr>\n",
              "    <tr>\n",
              "      <th>338</th>\n",
              "      <td>704097</td>\n",
              "      <td>1</td>\n",
              "      <td>1</td>\n",
              "      <td>1</td>\n",
              "      <td>1</td>\n",
              "      <td>1</td>\n",
              "      <td>1</td>\n",
              "      <td>2</td>\n",
              "      <td>1</td>\n",
              "      <td>1</td>\n",
              "      <td>2</td>\n",
              "    </tr>\n",
              "    <tr>\n",
              "      <th>561</th>\n",
              "      <td>1321942</td>\n",
              "      <td>5</td>\n",
              "      <td>1</td>\n",
              "      <td>1</td>\n",
              "      <td>1</td>\n",
              "      <td>2</td>\n",
              "      <td>1</td>\n",
              "      <td>3</td>\n",
              "      <td>1</td>\n",
              "      <td>1</td>\n",
              "      <td>2</td>\n",
              "    </tr>\n",
              "    <tr>\n",
              "      <th>684</th>\n",
              "      <td>466906</td>\n",
              "      <td>1</td>\n",
              "      <td>1</td>\n",
              "      <td>1</td>\n",
              "      <td>1</td>\n",
              "      <td>2</td>\n",
              "      <td>1</td>\n",
              "      <td>1</td>\n",
              "      <td>1</td>\n",
              "      <td>1</td>\n",
              "      <td>2</td>\n",
              "    </tr>\n",
              "  </tbody>\n",
              "</table>\n",
              "</div>"
            ],
            "text/plain": [
              "          ID  ClumpThickness  Cell Size  ...  Bland Chromatin  Mitoses  Class\n",
              "208  1218860               1          1  ...                1        1      2\n",
              "253  1100524               6         10  ...                3        3      4\n",
              "254  1116116               9         10  ...                3        1      4\n",
              "258  1198641               3          1  ...                1        1      2\n",
              "272   320675               3          3  ...                1        1      4\n",
              "322   733639               3          1  ...                1        1      2\n",
              "338   704097               1          1  ...                1        1      2\n",
              "561  1321942               5          1  ...                1        1      2\n",
              "684   466906               1          1  ...                1        1      2\n",
              "\n",
              "[9 rows x 11 columns]"
            ]
          },
          "metadata": {
            "tags": []
          },
          "execution_count": 184
        }
      ]
    },
    {
      "cell_type": "code",
      "metadata": {
        "id": "grwgBYswGtib",
        "colab_type": "code",
        "colab": {}
      },
      "source": [
        "data_df.drop_duplicates(subset=None, keep='first', inplace=True)"
      ],
      "execution_count": 185,
      "outputs": []
    },
    {
      "cell_type": "code",
      "metadata": {
        "id": "v1zTGZzWHOjd",
        "colab_type": "code",
        "colab": {
          "base_uri": "https://localhost:8080/",
          "height": 34
        },
        "outputId": "5bea158e-0f5a-4e38-bcb6-0461616f0d67"
      },
      "source": [
        "data_df.shape"
      ],
      "execution_count": 186,
      "outputs": [
        {
          "output_type": "execute_result",
          "data": {
            "text/plain": [
              "(690, 11)"
            ]
          },
          "metadata": {
            "tags": []
          },
          "execution_count": 186
        }
      ]
    },
    {
      "cell_type": "code",
      "metadata": {
        "id": "ODZ3d1IyLt4D",
        "colab_type": "code",
        "colab": {
          "base_uri": "https://localhost:8080/",
          "height": 218
        },
        "outputId": "da94b860-67a1-48aa-f673-33eb83f3a20c"
      },
      "source": [
        "data_df['Bare Nuclei'] = data_df['Bare Nuclei'].astype('int64')\n",
        "data_df.dtypes"
      ],
      "execution_count": 187,
      "outputs": [
        {
          "output_type": "execute_result",
          "data": {
            "text/plain": [
              "ID                             int64\n",
              "ClumpThickness                 int64\n",
              "Cell Size                      int64\n",
              "Cell Shape                     int64\n",
              "Marginal Adhesion              int64\n",
              "Single Epithelial Cell Size    int64\n",
              "Bare Nuclei                    int64\n",
              "Normal Nucleoli                int64\n",
              "Bland Chromatin                int64\n",
              "Mitoses                        int64\n",
              "Class                          int64\n",
              "dtype: object"
            ]
          },
          "metadata": {
            "tags": []
          },
          "execution_count": 187
        }
      ]
    },
    {
      "cell_type": "markdown",
      "metadata": {
        "id": "w6uETWruHxCv",
        "colab_type": "text"
      },
      "source": [
        "### **`Q4. Perform bi variate analysis including correlation, pairplots and state the inferences.`**\n"
      ]
    },
    {
      "cell_type": "code",
      "metadata": {
        "id": "ImYaUCuwH7b4",
        "colab_type": "code",
        "colab": {}
      },
      "source": [
        "# Check for correlation of variable"
      ],
      "execution_count": 188,
      "outputs": []
    },
    {
      "cell_type": "code",
      "metadata": {
        "id": "xfhL1s-YJHwo",
        "colab_type": "code",
        "colab": {
          "base_uri": "https://localhost:8080/",
          "height": 440
        },
        "outputId": "83a69669-5447-45cd-95a8-74b62c748e78"
      },
      "source": [
        "data_df.corr()"
      ],
      "execution_count": 189,
      "outputs": [
        {
          "output_type": "execute_result",
          "data": {
            "text/html": [
              "<div>\n",
              "<style scoped>\n",
              "    .dataframe tbody tr th:only-of-type {\n",
              "        vertical-align: middle;\n",
              "    }\n",
              "\n",
              "    .dataframe tbody tr th {\n",
              "        vertical-align: top;\n",
              "    }\n",
              "\n",
              "    .dataframe thead th {\n",
              "        text-align: right;\n",
              "    }\n",
              "</style>\n",
              "<table border=\"1\" class=\"dataframe\">\n",
              "  <thead>\n",
              "    <tr style=\"text-align: right;\">\n",
              "      <th></th>\n",
              "      <th>ID</th>\n",
              "      <th>ClumpThickness</th>\n",
              "      <th>Cell Size</th>\n",
              "      <th>Cell Shape</th>\n",
              "      <th>Marginal Adhesion</th>\n",
              "      <th>Single Epithelial Cell Size</th>\n",
              "      <th>Bare Nuclei</th>\n",
              "      <th>Normal Nucleoli</th>\n",
              "      <th>Bland Chromatin</th>\n",
              "      <th>Mitoses</th>\n",
              "      <th>Class</th>\n",
              "    </tr>\n",
              "  </thead>\n",
              "  <tbody>\n",
              "    <tr>\n",
              "      <th>ID</th>\n",
              "      <td>1.000000</td>\n",
              "      <td>-0.059592</td>\n",
              "      <td>-0.043856</td>\n",
              "      <td>-0.042803</td>\n",
              "      <td>-0.066771</td>\n",
              "      <td>-0.048102</td>\n",
              "      <td>-0.091832</td>\n",
              "      <td>-0.059802</td>\n",
              "      <td>-0.054517</td>\n",
              "      <td>-0.036286</td>\n",
              "      <td>-0.080084</td>\n",
              "    </tr>\n",
              "    <tr>\n",
              "      <th>ClumpThickness</th>\n",
              "      <td>-0.059592</td>\n",
              "      <td>1.000000</td>\n",
              "      <td>0.643173</td>\n",
              "      <td>0.653589</td>\n",
              "      <td>0.487715</td>\n",
              "      <td>0.517253</td>\n",
              "      <td>0.590648</td>\n",
              "      <td>0.561063</td>\n",
              "      <td>0.535507</td>\n",
              "      <td>0.350196</td>\n",
              "      <td>0.716812</td>\n",
              "    </tr>\n",
              "    <tr>\n",
              "      <th>Cell Size</th>\n",
              "      <td>-0.043856</td>\n",
              "      <td>0.643173</td>\n",
              "      <td>1.000000</td>\n",
              "      <td>0.905349</td>\n",
              "      <td>0.712933</td>\n",
              "      <td>0.746982</td>\n",
              "      <td>0.684571</td>\n",
              "      <td>0.759632</td>\n",
              "      <td>0.727073</td>\n",
              "      <td>0.459918</td>\n",
              "      <td>0.817586</td>\n",
              "    </tr>\n",
              "    <tr>\n",
              "      <th>Cell Shape</th>\n",
              "      <td>-0.042803</td>\n",
              "      <td>0.653589</td>\n",
              "      <td>0.905349</td>\n",
              "      <td>1.000000</td>\n",
              "      <td>0.690782</td>\n",
              "      <td>0.714243</td>\n",
              "      <td>0.704165</td>\n",
              "      <td>0.738576</td>\n",
              "      <td>0.724519</td>\n",
              "      <td>0.440435</td>\n",
              "      <td>0.817551</td>\n",
              "    </tr>\n",
              "    <tr>\n",
              "      <th>Marginal Adhesion</th>\n",
              "      <td>-0.066771</td>\n",
              "      <td>0.487715</td>\n",
              "      <td>0.712933</td>\n",
              "      <td>0.690782</td>\n",
              "      <td>1.000000</td>\n",
              "      <td>0.608281</td>\n",
              "      <td>0.672512</td>\n",
              "      <td>0.669860</td>\n",
              "      <td>0.602228</td>\n",
              "      <td>0.417008</td>\n",
              "      <td>0.701175</td>\n",
              "    </tr>\n",
              "    <tr>\n",
              "      <th>Single Epithelial Cell Size</th>\n",
              "      <td>-0.048102</td>\n",
              "      <td>0.517253</td>\n",
              "      <td>0.746982</td>\n",
              "      <td>0.714243</td>\n",
              "      <td>0.608281</td>\n",
              "      <td>1.000000</td>\n",
              "      <td>0.580487</td>\n",
              "      <td>0.620526</td>\n",
              "      <td>0.633880</td>\n",
              "      <td>0.482517</td>\n",
              "      <td>0.681063</td>\n",
              "    </tr>\n",
              "    <tr>\n",
              "      <th>Bare Nuclei</th>\n",
              "      <td>-0.091832</td>\n",
              "      <td>0.590648</td>\n",
              "      <td>0.684571</td>\n",
              "      <td>0.704165</td>\n",
              "      <td>0.672512</td>\n",
              "      <td>0.580487</td>\n",
              "      <td>1.000000</td>\n",
              "      <td>0.672754</td>\n",
              "      <td>0.578161</td>\n",
              "      <td>0.342823</td>\n",
              "      <td>0.816655</td>\n",
              "    </tr>\n",
              "    <tr>\n",
              "      <th>Normal Nucleoli</th>\n",
              "      <td>-0.059802</td>\n",
              "      <td>0.561063</td>\n",
              "      <td>0.759632</td>\n",
              "      <td>0.738576</td>\n",
              "      <td>0.669860</td>\n",
              "      <td>0.620526</td>\n",
              "      <td>0.672754</td>\n",
              "      <td>1.000000</td>\n",
              "      <td>0.669099</td>\n",
              "      <td>0.343769</td>\n",
              "      <td>0.756736</td>\n",
              "    </tr>\n",
              "    <tr>\n",
              "      <th>Bland Chromatin</th>\n",
              "      <td>-0.054517</td>\n",
              "      <td>0.535507</td>\n",
              "      <td>0.727073</td>\n",
              "      <td>0.724519</td>\n",
              "      <td>0.602228</td>\n",
              "      <td>0.633880</td>\n",
              "      <td>0.578161</td>\n",
              "      <td>0.669099</td>\n",
              "      <td>1.000000</td>\n",
              "      <td>0.427490</td>\n",
              "      <td>0.715363</td>\n",
              "    </tr>\n",
              "    <tr>\n",
              "      <th>Mitoses</th>\n",
              "      <td>-0.036286</td>\n",
              "      <td>0.350196</td>\n",
              "      <td>0.459918</td>\n",
              "      <td>0.440435</td>\n",
              "      <td>0.417008</td>\n",
              "      <td>0.482517</td>\n",
              "      <td>0.342823</td>\n",
              "      <td>0.343769</td>\n",
              "      <td>0.427490</td>\n",
              "      <td>1.000000</td>\n",
              "      <td>0.423947</td>\n",
              "    </tr>\n",
              "    <tr>\n",
              "      <th>Class</th>\n",
              "      <td>-0.080084</td>\n",
              "      <td>0.716812</td>\n",
              "      <td>0.817586</td>\n",
              "      <td>0.817551</td>\n",
              "      <td>0.701175</td>\n",
              "      <td>0.681063</td>\n",
              "      <td>0.816655</td>\n",
              "      <td>0.756736</td>\n",
              "      <td>0.715363</td>\n",
              "      <td>0.423947</td>\n",
              "      <td>1.000000</td>\n",
              "    </tr>\n",
              "  </tbody>\n",
              "</table>\n",
              "</div>"
            ],
            "text/plain": [
              "                                   ID  ClumpThickness  ...   Mitoses     Class\n",
              "ID                           1.000000       -0.059592  ... -0.036286 -0.080084\n",
              "ClumpThickness              -0.059592        1.000000  ...  0.350196  0.716812\n",
              "Cell Size                   -0.043856        0.643173  ...  0.459918  0.817586\n",
              "Cell Shape                  -0.042803        0.653589  ...  0.440435  0.817551\n",
              "Marginal Adhesion           -0.066771        0.487715  ...  0.417008  0.701175\n",
              "Single Epithelial Cell Size -0.048102        0.517253  ...  0.482517  0.681063\n",
              "Bare Nuclei                 -0.091832        0.590648  ...  0.342823  0.816655\n",
              "Normal Nucleoli             -0.059802        0.561063  ...  0.343769  0.756736\n",
              "Bland Chromatin             -0.054517        0.535507  ...  0.427490  0.715363\n",
              "Mitoses                     -0.036286        0.350196  ...  1.000000  0.423947\n",
              "Class                       -0.080084        0.716812  ...  0.423947  1.000000\n",
              "\n",
              "[11 rows x 11 columns]"
            ]
          },
          "metadata": {
            "tags": []
          },
          "execution_count": 189
        }
      ]
    },
    {
      "cell_type": "code",
      "metadata": {
        "id": "9VsXhVPoICPE",
        "colab_type": "code",
        "colab": {}
      },
      "source": [
        "# Cell size shows high significance with cell shape,marginal adhesion, single epithelial cell size,bare nuclei, normal nucleoli \n",
        "# and bland chromatin\n",
        "# Target variable shows high correlation with most of these variables"
      ],
      "execution_count": 190,
      "outputs": []
    },
    {
      "cell_type": "code",
      "metadata": {
        "id": "O_oLvb8nICqi",
        "colab_type": "code",
        "colab": {}
      },
      "source": [
        "#Let us check for pair plots"
      ],
      "execution_count": 191,
      "outputs": []
    },
    {
      "cell_type": "code",
      "metadata": {
        "id": "1t--dTYYSuMm",
        "colab_type": "code",
        "colab": {}
      },
      "source": [
        "#Import all the necessary modules\n",
        "#Import all the necessary modules\n",
        "import pandas as pd\n",
        "import numpy as np\n",
        "import os\n",
        "import seaborn as sns\n",
        "import matplotlib.pyplot as plt\n",
        "%matplotlib inline"
      ],
      "execution_count": 192,
      "outputs": []
    },
    {
      "cell_type": "code",
      "metadata": {
        "id": "CYfSinFTS4vd",
        "colab_type": "code",
        "colab": {
          "base_uri": "https://localhost:8080/",
          "height": 1000
        },
        "outputId": "314b866c-f73b-47d5-94df-d26bea57ac95"
      },
      "source": [
        "sns.pairplot(data_df, diag_kind='kde', hue='Class')"
      ],
      "execution_count": 193,
      "outputs": [
        {
          "output_type": "execute_result",
          "data": {
            "text/plain": [
              "<seaborn.axisgrid.PairGrid at 0x7f3f85bb2e80>"
            ]
          },
          "metadata": {
            "tags": []
          },
          "execution_count": 193
        },
        {
          "output_type": "display_data",
          "data": {
            "image/png": "[encoded data removed]",
            "text/plain": [
              "<Figure size 1842.38x1800 with 110 Axes>"
            ]
          },
          "metadata": {
            "tags": [],
            "needs_background": "light"
          }
        }
      ]
    },
    {
      "cell_type": "code",
      "metadata": {
        "id": "bhxySB9GIJrH",
        "colab_type": "code",
        "colab": {}
      },
      "source": [
        "# Relationship between variables shows come correlation. \n",
        "# Distribution of variables shows most of the values are concentrated on lower side, though range remains same for all that is \n",
        "# Between 1 to 10"
      ],
      "execution_count": 194,
      "outputs": []
    },
    {
      "cell_type": "markdown",
      "metadata": {
        "id": "QjXu2LOtIMWJ",
        "colab_type": "text"
      },
      "source": [
        "### **Q5 Remove any unwanted columns or outliers, standardize variables in pre-processing step**"
      ]
    },
    {
      "cell_type": "code",
      "metadata": {
        "id": "8onVoCbkIPQB",
        "colab_type": "code",
        "colab": {
          "base_uri": "https://localhost:8080/",
          "height": 360
        },
        "outputId": "06817394-afc2-4173-b6b1-776d7f0d1583"
      },
      "source": [
        "data_df = data_df.drop(['ID'], axis=1)\n",
        "\n",
        "data_df.head(10)"
      ],
      "execution_count": 195,
      "outputs": [
        {
          "output_type": "execute_result",
          "data": {
            "text/html": [
              "<div>\n",
              "<style scoped>\n",
              "    .dataframe tbody tr th:only-of-type {\n",
              "        vertical-align: middle;\n",
              "    }\n",
              "\n",
              "    .dataframe tbody tr th {\n",
              "        vertical-align: top;\n",
              "    }\n",
              "\n",
              "    .dataframe thead th {\n",
              "        text-align: right;\n",
              "    }\n",
              "</style>\n",
              "<table border=\"1\" class=\"dataframe\">\n",
              "  <thead>\n",
              "    <tr style=\"text-align: right;\">\n",
              "      <th></th>\n",
              "      <th>ClumpThickness</th>\n",
              "      <th>Cell Size</th>\n",
              "      <th>Cell Shape</th>\n",
              "      <th>Marginal Adhesion</th>\n",
              "      <th>Single Epithelial Cell Size</th>\n",
              "      <th>Bare Nuclei</th>\n",
              "      <th>Normal Nucleoli</th>\n",
              "      <th>Bland Chromatin</th>\n",
              "      <th>Mitoses</th>\n",
              "      <th>Class</th>\n",
              "    </tr>\n",
              "  </thead>\n",
              "  <tbody>\n",
              "    <tr>\n",
              "      <th>0</th>\n",
              "      <td>5</td>\n",
              "      <td>1</td>\n",
              "      <td>1</td>\n",
              "      <td>1</td>\n",
              "      <td>2</td>\n",
              "      <td>1</td>\n",
              "      <td>3</td>\n",
              "      <td>1</td>\n",
              "      <td>1</td>\n",
              "      <td>2</td>\n",
              "    </tr>\n",
              "    <tr>\n",
              "      <th>1</th>\n",
              "      <td>5</td>\n",
              "      <td>4</td>\n",
              "      <td>4</td>\n",
              "      <td>5</td>\n",
              "      <td>7</td>\n",
              "      <td>10</td>\n",
              "      <td>3</td>\n",
              "      <td>2</td>\n",
              "      <td>1</td>\n",
              "      <td>2</td>\n",
              "    </tr>\n",
              "    <tr>\n",
              "      <th>2</th>\n",
              "      <td>3</td>\n",
              "      <td>1</td>\n",
              "      <td>1</td>\n",
              "      <td>1</td>\n",
              "      <td>2</td>\n",
              "      <td>2</td>\n",
              "      <td>3</td>\n",
              "      <td>1</td>\n",
              "      <td>1</td>\n",
              "      <td>2</td>\n",
              "    </tr>\n",
              "    <tr>\n",
              "      <th>3</th>\n",
              "      <td>6</td>\n",
              "      <td>8</td>\n",
              "      <td>8</td>\n",
              "      <td>1</td>\n",
              "      <td>3</td>\n",
              "      <td>4</td>\n",
              "      <td>3</td>\n",
              "      <td>7</td>\n",
              "      <td>1</td>\n",
              "      <td>2</td>\n",
              "    </tr>\n",
              "    <tr>\n",
              "      <th>4</th>\n",
              "      <td>4</td>\n",
              "      <td>1</td>\n",
              "      <td>1</td>\n",
              "      <td>3</td>\n",
              "      <td>2</td>\n",
              "      <td>1</td>\n",
              "      <td>3</td>\n",
              "      <td>1</td>\n",
              "      <td>1</td>\n",
              "      <td>2</td>\n",
              "    </tr>\n",
              "    <tr>\n",
              "      <th>5</th>\n",
              "      <td>8</td>\n",
              "      <td>10</td>\n",
              "      <td>10</td>\n",
              "      <td>8</td>\n",
              "      <td>7</td>\n",
              "      <td>10</td>\n",
              "      <td>9</td>\n",
              "      <td>7</td>\n",
              "      <td>1</td>\n",
              "      <td>4</td>\n",
              "    </tr>\n",
              "    <tr>\n",
              "      <th>6</th>\n",
              "      <td>1</td>\n",
              "      <td>1</td>\n",
              "      <td>1</td>\n",
              "      <td>1</td>\n",
              "      <td>2</td>\n",
              "      <td>10</td>\n",
              "      <td>3</td>\n",
              "      <td>1</td>\n",
              "      <td>1</td>\n",
              "      <td>2</td>\n",
              "    </tr>\n",
              "    <tr>\n",
              "      <th>7</th>\n",
              "      <td>2</td>\n",
              "      <td>1</td>\n",
              "      <td>2</td>\n",
              "      <td>1</td>\n",
              "      <td>2</td>\n",
              "      <td>1</td>\n",
              "      <td>3</td>\n",
              "      <td>1</td>\n",
              "      <td>1</td>\n",
              "      <td>2</td>\n",
              "    </tr>\n",
              "    <tr>\n",
              "      <th>8</th>\n",
              "      <td>2</td>\n",
              "      <td>1</td>\n",
              "      <td>1</td>\n",
              "      <td>1</td>\n",
              "      <td>2</td>\n",
              "      <td>1</td>\n",
              "      <td>1</td>\n",
              "      <td>1</td>\n",
              "      <td>5</td>\n",
              "      <td>2</td>\n",
              "    </tr>\n",
              "    <tr>\n",
              "      <th>9</th>\n",
              "      <td>4</td>\n",
              "      <td>2</td>\n",
              "      <td>1</td>\n",
              "      <td>1</td>\n",
              "      <td>2</td>\n",
              "      <td>1</td>\n",
              "      <td>2</td>\n",
              "      <td>1</td>\n",
              "      <td>1</td>\n",
              "      <td>2</td>\n",
              "    </tr>\n",
              "  </tbody>\n",
              "</table>\n",
              "</div>"
            ],
            "text/plain": [
              "   ClumpThickness  Cell Size  Cell Shape  ...  Bland Chromatin  Mitoses  Class\n",
              "0               5          1           1  ...                1        1      2\n",
              "1               5          4           4  ...                2        1      2\n",
              "2               3          1           1  ...                1        1      2\n",
              "3               6          8           8  ...                7        1      2\n",
              "4               4          1           1  ...                1        1      2\n",
              "5               8         10          10  ...                7        1      4\n",
              "6               1          1           1  ...                1        1      2\n",
              "7               2          1           2  ...                1        1      2\n",
              "8               2          1           1  ...                1        5      2\n",
              "9               4          2           1  ...                1        1      2\n",
              "\n",
              "[10 rows x 10 columns]"
            ]
          },
          "metadata": {
            "tags": []
          },
          "execution_count": 195
        }
      ]
    },
    {
      "cell_type": "code",
      "metadata": {
        "id": "s6PaGM9Zj-0x",
        "colab_type": "code",
        "colab": {
          "base_uri": "https://localhost:8080/",
          "height": 222
        },
        "outputId": "b5170a8f-6bea-49b7-cfaa-3a37c10c33d7"
      },
      "source": [
        "data_df.boxplot(figsize=(20,3))"
      ],
      "execution_count": 196,
      "outputs": [
        {
          "output_type": "execute_result",
          "data": {
            "text/plain": [
              "<matplotlib.axes._subplots.AxesSubplot at 0x7f3f8552fb00>"
            ]
          },
          "metadata": {
            "tags": []
          },
          "execution_count": 196
        },
        {
          "output_type": "display_data",
          "data": {
            "image/png": "[encoded data removed]",
            "text/plain": [
              "<Figure size 1440x216 with 1 Axes>"
            ]
          },
          "metadata": {
            "tags": [],
            "needs_background": "light"
          }
        }
      ]
    },
    {
      "cell_type": "code",
      "metadata": {
        "id": "GnFtjfKrj-9e",
        "colab_type": "code",
        "colab": {}
      },
      "source": [
        "# We could see most of the outliers and can remove them."
      ],
      "execution_count": 197,
      "outputs": []
    },
    {
      "cell_type": "code",
      "metadata": {
        "id": "kWslQX4Aj_Go",
        "colab_type": "code",
        "colab": {
          "base_uri": "https://localhost:8080/",
          "height": 373
        },
        "outputId": "cd02aba8-37fd-4e1e-c156-e0adad02c320"
      },
      "source": [
        "pd.crosstab(data_df['Marginal Adhesion'], data_df['Class'])"
      ],
      "execution_count": 198,
      "outputs": [
        {
          "output_type": "execute_result",
          "data": {
            "text/html": [
              "<div>\n",
              "<style scoped>\n",
              "    .dataframe tbody tr th:only-of-type {\n",
              "        vertical-align: middle;\n",
              "    }\n",
              "\n",
              "    .dataframe tbody tr th {\n",
              "        vertical-align: top;\n",
              "    }\n",
              "\n",
              "    .dataframe thead th {\n",
              "        text-align: right;\n",
              "    }\n",
              "</style>\n",
              "<table border=\"1\" class=\"dataframe\">\n",
              "  <thead>\n",
              "    <tr style=\"text-align: right;\">\n",
              "      <th>Class</th>\n",
              "      <th>2</th>\n",
              "      <th>4</th>\n",
              "    </tr>\n",
              "    <tr>\n",
              "      <th>Marginal Adhesion</th>\n",
              "      <th></th>\n",
              "      <th></th>\n",
              "    </tr>\n",
              "  </thead>\n",
              "  <tbody>\n",
              "    <tr>\n",
              "      <th>1</th>\n",
              "      <td>369</td>\n",
              "      <td>31</td>\n",
              "    </tr>\n",
              "    <tr>\n",
              "      <th>2</th>\n",
              "      <td>37</td>\n",
              "      <td>19</td>\n",
              "    </tr>\n",
              "    <tr>\n",
              "      <th>3</th>\n",
              "      <td>31</td>\n",
              "      <td>27</td>\n",
              "    </tr>\n",
              "    <tr>\n",
              "      <th>4</th>\n",
              "      <td>5</td>\n",
              "      <td>28</td>\n",
              "    </tr>\n",
              "    <tr>\n",
              "      <th>5</th>\n",
              "      <td>4</td>\n",
              "      <td>19</td>\n",
              "    </tr>\n",
              "    <tr>\n",
              "      <th>6</th>\n",
              "      <td>4</td>\n",
              "      <td>18</td>\n",
              "    </tr>\n",
              "    <tr>\n",
              "      <th>7</th>\n",
              "      <td>0</td>\n",
              "      <td>13</td>\n",
              "    </tr>\n",
              "    <tr>\n",
              "      <th>8</th>\n",
              "      <td>0</td>\n",
              "      <td>25</td>\n",
              "    </tr>\n",
              "    <tr>\n",
              "      <th>9</th>\n",
              "      <td>1</td>\n",
              "      <td>4</td>\n",
              "    </tr>\n",
              "    <tr>\n",
              "      <th>10</th>\n",
              "      <td>1</td>\n",
              "      <td>54</td>\n",
              "    </tr>\n",
              "  </tbody>\n",
              "</table>\n",
              "</div>"
            ],
            "text/plain": [
              "Class                2   4\n",
              "Marginal Adhesion         \n",
              "1                  369  31\n",
              "2                   37  19\n",
              "3                   31  27\n",
              "4                    5  28\n",
              "5                    4  19\n",
              "6                    4  18\n",
              "7                    0  13\n",
              "8                    0  25\n",
              "9                    1   4\n",
              "10                   1  54"
            ]
          },
          "metadata": {
            "tags": []
          },
          "execution_count": 198
        }
      ]
    },
    {
      "cell_type": "code",
      "metadata": {
        "id": "FZxOjSdSj_Q-",
        "colab_type": "code",
        "colab": {}
      },
      "source": [
        "data_df['Marginal Adhesion'] = np.where(data_df['Marginal Adhesion']>6, 6, data_df['Marginal Adhesion'])"
      ],
      "execution_count": 199,
      "outputs": []
    },
    {
      "cell_type": "code",
      "metadata": {
        "id": "hh1fKIn9j_Y2",
        "colab_type": "code",
        "colab": {
          "base_uri": "https://localhost:8080/",
          "height": 222
        },
        "outputId": "6db3efc1-3072-42d8-c09b-5ec0350555c9"
      },
      "source": [
        "data_df.boxplot(figsize=(20,3))"
      ],
      "execution_count": 200,
      "outputs": [
        {
          "output_type": "execute_result",
          "data": {
            "text/plain": [
              "<matplotlib.axes._subplots.AxesSubplot at 0x7f3f832c3eb8>"
            ]
          },
          "metadata": {
            "tags": []
          },
          "execution_count": 200
        },
        {
          "output_type": "display_data",
          "data": {
            "image/png": "[encoded data removed]",
            "text/plain": [
              "<Figure size 1440x216 with 1 Axes>"
            ]
          },
          "metadata": {
            "tags": [],
            "needs_background": "light"
          }
        }
      ]
    },
    {
      "cell_type": "code",
      "metadata": {
        "id": "cIUAb8-tj_hV",
        "colab_type": "code",
        "colab": {
          "base_uri": "https://localhost:8080/",
          "height": 373
        },
        "outputId": "8089dde8-842e-4fcd-95a5-9e965ca65852"
      },
      "source": [
        "pd.crosstab(data_df['Single Epithelial Cell Size'], data_df['Class'])"
      ],
      "execution_count": 201,
      "outputs": [
        {
          "output_type": "execute_result",
          "data": {
            "text/html": [
              "<div>\n",
              "<style scoped>\n",
              "    .dataframe tbody tr th:only-of-type {\n",
              "        vertical-align: middle;\n",
              "    }\n",
              "\n",
              "    .dataframe tbody tr th {\n",
              "        vertical-align: top;\n",
              "    }\n",
              "\n",
              "    .dataframe thead th {\n",
              "        text-align: right;\n",
              "    }\n",
              "</style>\n",
              "<table border=\"1\" class=\"dataframe\">\n",
              "  <thead>\n",
              "    <tr style=\"text-align: right;\">\n",
              "      <th>Class</th>\n",
              "      <th>2</th>\n",
              "      <th>4</th>\n",
              "    </tr>\n",
              "    <tr>\n",
              "      <th>Single Epithelial Cell Size</th>\n",
              "      <th></th>\n",
              "      <th></th>\n",
              "    </tr>\n",
              "  </thead>\n",
              "  <tbody>\n",
              "    <tr>\n",
              "      <th>1</th>\n",
              "      <td>44</td>\n",
              "      <td>1</td>\n",
              "    </tr>\n",
              "    <tr>\n",
              "      <th>2</th>\n",
              "      <td>359</td>\n",
              "      <td>23</td>\n",
              "    </tr>\n",
              "    <tr>\n",
              "      <th>3</th>\n",
              "      <td>29</td>\n",
              "      <td>42</td>\n",
              "    </tr>\n",
              "    <tr>\n",
              "      <th>4</th>\n",
              "      <td>7</td>\n",
              "      <td>41</td>\n",
              "    </tr>\n",
              "    <tr>\n",
              "      <th>5</th>\n",
              "      <td>5</td>\n",
              "      <td>34</td>\n",
              "    </tr>\n",
              "    <tr>\n",
              "      <th>6</th>\n",
              "      <td>2</td>\n",
              "      <td>39</td>\n",
              "    </tr>\n",
              "    <tr>\n",
              "      <th>7</th>\n",
              "      <td>3</td>\n",
              "      <td>9</td>\n",
              "    </tr>\n",
              "    <tr>\n",
              "      <th>8</th>\n",
              "      <td>2</td>\n",
              "      <td>18</td>\n",
              "    </tr>\n",
              "    <tr>\n",
              "      <th>9</th>\n",
              "      <td>0</td>\n",
              "      <td>2</td>\n",
              "    </tr>\n",
              "    <tr>\n",
              "      <th>10</th>\n",
              "      <td>1</td>\n",
              "      <td>29</td>\n",
              "    </tr>\n",
              "  </tbody>\n",
              "</table>\n",
              "</div>"
            ],
            "text/plain": [
              "Class                          2   4\n",
              "Single Epithelial Cell Size         \n",
              "1                             44   1\n",
              "2                            359  23\n",
              "3                             29  42\n",
              "4                              7  41\n",
              "5                              5  34\n",
              "6                              2  39\n",
              "7                              3   9\n",
              "8                              2  18\n",
              "9                              0   2\n",
              "10                             1  29"
            ]
          },
          "metadata": {
            "tags": []
          },
          "execution_count": 201
        }
      ]
    },
    {
      "cell_type": "code",
      "metadata": {
        "id": "wsa0RENtj_p-",
        "colab_type": "code",
        "colab": {}
      },
      "source": [
        "data_df['Single Epithelial Cell Size'] = np.where(data_df['Single Epithelial Cell Size']>6, 6, data_df['Single Epithelial Cell Size'])"
      ],
      "execution_count": 202,
      "outputs": []
    },
    {
      "cell_type": "code",
      "metadata": {
        "id": "QLRhXN3Tj_ya",
        "colab_type": "code",
        "colab": {
          "base_uri": "https://localhost:8080/",
          "height": 222
        },
        "outputId": "6f011f33-e4f0-4a75-d3a7-b5d0e453171c"
      },
      "source": [
        "data_df.boxplot(figsize=(20,3))"
      ],
      "execution_count": 203,
      "outputs": [
        {
          "output_type": "execute_result",
          "data": {
            "text/plain": [
              "<matplotlib.axes._subplots.AxesSubplot at 0x7f3f831819b0>"
            ]
          },
          "metadata": {
            "tags": []
          },
          "execution_count": 203
        },
        {
          "output_type": "display_data",
          "data": {
            "image/png": "[encoded data removed]",
            "text/plain": [
              "<Figure size 1440x216 with 1 Axes>"
            ]
          },
          "metadata": {
            "tags": [],
            "needs_background": "light"
          }
        }
      ]
    },
    {
      "cell_type": "code",
      "metadata": {
        "id": "CSVyEqPxj_6Q",
        "colab_type": "code",
        "colab": {
          "base_uri": "https://localhost:8080/",
          "height": 373
        },
        "outputId": "9dd65025-a05f-4a32-d96e-c12ce10130cf"
      },
      "source": [
        "pd.crosstab(data_df['Normal Nucleoli'], data_df['Class'])"
      ],
      "execution_count": 204,
      "outputs": [
        {
          "output_type": "execute_result",
          "data": {
            "text/html": [
              "<div>\n",
              "<style scoped>\n",
              "    .dataframe tbody tr th:only-of-type {\n",
              "        vertical-align: middle;\n",
              "    }\n",
              "\n",
              "    .dataframe tbody tr th {\n",
              "        vertical-align: top;\n",
              "    }\n",
              "\n",
              "    .dataframe thead th {\n",
              "        text-align: right;\n",
              "    }\n",
              "</style>\n",
              "<table border=\"1\" class=\"dataframe\">\n",
              "  <thead>\n",
              "    <tr style=\"text-align: right;\">\n",
              "      <th>Class</th>\n",
              "      <th>2</th>\n",
              "      <th>4</th>\n",
              "    </tr>\n",
              "    <tr>\n",
              "      <th>Normal Nucleoli</th>\n",
              "      <th></th>\n",
              "      <th></th>\n",
              "    </tr>\n",
              "  </thead>\n",
              "  <tbody>\n",
              "    <tr>\n",
              "      <th>1</th>\n",
              "      <td>149</td>\n",
              "      <td>2</td>\n",
              "    </tr>\n",
              "    <tr>\n",
              "      <th>2</th>\n",
              "      <td>158</td>\n",
              "      <td>7</td>\n",
              "    </tr>\n",
              "    <tr>\n",
              "      <th>3</th>\n",
              "      <td>125</td>\n",
              "      <td>35</td>\n",
              "    </tr>\n",
              "    <tr>\n",
              "      <th>4</th>\n",
              "      <td>8</td>\n",
              "      <td>32</td>\n",
              "    </tr>\n",
              "    <tr>\n",
              "      <th>5</th>\n",
              "      <td>4</td>\n",
              "      <td>30</td>\n",
              "    </tr>\n",
              "    <tr>\n",
              "      <th>6</th>\n",
              "      <td>1</td>\n",
              "      <td>9</td>\n",
              "    </tr>\n",
              "    <tr>\n",
              "      <th>7</th>\n",
              "      <td>7</td>\n",
              "      <td>64</td>\n",
              "    </tr>\n",
              "    <tr>\n",
              "      <th>8</th>\n",
              "      <td>0</td>\n",
              "      <td>28</td>\n",
              "    </tr>\n",
              "    <tr>\n",
              "      <th>9</th>\n",
              "      <td>0</td>\n",
              "      <td>11</td>\n",
              "    </tr>\n",
              "    <tr>\n",
              "      <th>10</th>\n",
              "      <td>0</td>\n",
              "      <td>20</td>\n",
              "    </tr>\n",
              "  </tbody>\n",
              "</table>\n",
              "</div>"
            ],
            "text/plain": [
              "Class              2   4\n",
              "Normal Nucleoli         \n",
              "1                149   2\n",
              "2                158   7\n",
              "3                125  35\n",
              "4                  8  32\n",
              "5                  4  30\n",
              "6                  1   9\n",
              "7                  7  64\n",
              "8                  0  28\n",
              "9                  0  11\n",
              "10                 0  20"
            ]
          },
          "metadata": {
            "tags": []
          },
          "execution_count": 204
        }
      ]
    },
    {
      "cell_type": "code",
      "metadata": {
        "id": "XMv_ahNkr97d",
        "colab_type": "code",
        "colab": {}
      },
      "source": [
        "data_df['Normal Nucleoli'] = np.where(data_df['Normal Nucleoli'] > 7, 7, data_df['Normal Nucleoli'])"
      ],
      "execution_count": 205,
      "outputs": []
    },
    {
      "cell_type": "code",
      "metadata": {
        "id": "wdKzAATXr-HY",
        "colab_type": "code",
        "colab": {
          "base_uri": "https://localhost:8080/",
          "height": 222
        },
        "outputId": "0550583c-58ba-48f5-8eaf-697fb2c63666"
      },
      "source": [
        "data_df.boxplot(figsize=(20,3))"
      ],
      "execution_count": 206,
      "outputs": [
        {
          "output_type": "execute_result",
          "data": {
            "text/plain": [
              "<matplotlib.axes._subplots.AxesSubplot at 0x7f3f83091a90>"
            ]
          },
          "metadata": {
            "tags": []
          },
          "execution_count": 206
        },
        {
          "output_type": "display_data",
          "data": {
            "image/png": "[encoded data removed]",
            "text/plain": [
              "<Figure size 1440x216 with 1 Axes>"
            ]
          },
          "metadata": {
            "tags": [],
            "needs_background": "light"
          }
        }
      ]
    },
    {
      "cell_type": "code",
      "metadata": {
        "id": "EP5JK9KLr-Rg",
        "colab_type": "code",
        "colab": {
          "base_uri": "https://localhost:8080/",
          "height": 373
        },
        "outputId": "f3bcd5b2-2ed9-48e3-cb43-a19ee559ace4"
      },
      "source": [
        "pd.crosstab(data_df['Bland Chromatin'], data_df['Class'])"
      ],
      "execution_count": 207,
      "outputs": [
        {
          "output_type": "execute_result",
          "data": {
            "text/html": [
              "<div>\n",
              "<style scoped>\n",
              "    .dataframe tbody tr th:only-of-type {\n",
              "        vertical-align: middle;\n",
              "    }\n",
              "\n",
              "    .dataframe tbody tr th {\n",
              "        vertical-align: top;\n",
              "    }\n",
              "\n",
              "    .dataframe thead th {\n",
              "        text-align: right;\n",
              "    }\n",
              "</style>\n",
              "<table border=\"1\" class=\"dataframe\">\n",
              "  <thead>\n",
              "    <tr style=\"text-align: right;\">\n",
              "      <th>Class</th>\n",
              "      <th>2</th>\n",
              "      <th>4</th>\n",
              "    </tr>\n",
              "    <tr>\n",
              "      <th>Bland Chromatin</th>\n",
              "      <th></th>\n",
              "      <th></th>\n",
              "    </tr>\n",
              "  </thead>\n",
              "  <tbody>\n",
              "    <tr>\n",
              "      <th>1</th>\n",
              "      <td>396</td>\n",
              "      <td>40</td>\n",
              "    </tr>\n",
              "    <tr>\n",
              "      <th>2</th>\n",
              "      <td>30</td>\n",
              "      <td>6</td>\n",
              "    </tr>\n",
              "    <tr>\n",
              "      <th>3</th>\n",
              "      <td>12</td>\n",
              "      <td>30</td>\n",
              "    </tr>\n",
              "    <tr>\n",
              "      <th>4</th>\n",
              "      <td>1</td>\n",
              "      <td>17</td>\n",
              "    </tr>\n",
              "    <tr>\n",
              "      <th>5</th>\n",
              "      <td>2</td>\n",
              "      <td>17</td>\n",
              "    </tr>\n",
              "    <tr>\n",
              "      <th>6</th>\n",
              "      <td>4</td>\n",
              "      <td>18</td>\n",
              "    </tr>\n",
              "    <tr>\n",
              "      <th>7</th>\n",
              "      <td>2</td>\n",
              "      <td>14</td>\n",
              "    </tr>\n",
              "    <tr>\n",
              "      <th>8</th>\n",
              "      <td>4</td>\n",
              "      <td>20</td>\n",
              "    </tr>\n",
              "    <tr>\n",
              "      <th>9</th>\n",
              "      <td>1</td>\n",
              "      <td>15</td>\n",
              "    </tr>\n",
              "    <tr>\n",
              "      <th>10</th>\n",
              "      <td>0</td>\n",
              "      <td>61</td>\n",
              "    </tr>\n",
              "  </tbody>\n",
              "</table>\n",
              "</div>"
            ],
            "text/plain": [
              "Class              2   4\n",
              "Bland Chromatin         \n",
              "1                396  40\n",
              "2                 30   6\n",
              "3                 12  30\n",
              "4                  1  17\n",
              "5                  2  17\n",
              "6                  4  18\n",
              "7                  2  14\n",
              "8                  4  20\n",
              "9                  1  15\n",
              "10                 0  61"
            ]
          },
          "metadata": {
            "tags": []
          },
          "execution_count": 207
        }
      ]
    },
    {
      "cell_type": "code",
      "metadata": {
        "id": "P0KH2-cqr-pb",
        "colab_type": "code",
        "colab": {}
      },
      "source": [
        "data_df['Bland Chromatin'] = np.where(data_df['Bland Chromatin'] > 6, 6, data_df['Bland Chromatin'])"
      ],
      "execution_count": 208,
      "outputs": []
    },
    {
      "cell_type": "code",
      "metadata": {
        "id": "q-ybaBtzr-06",
        "colab_type": "code",
        "colab": {
          "base_uri": "https://localhost:8080/",
          "height": 222
        },
        "outputId": "c74e5dcb-da7a-421a-921d-1ef0e55b7a1b"
      },
      "source": [
        "data_df.boxplot(figsize=(20,3))"
      ],
      "execution_count": 209,
      "outputs": [
        {
          "output_type": "execute_result",
          "data": {
            "text/plain": [
              "<matplotlib.axes._subplots.AxesSubplot at 0x7f3f82f6bb70>"
            ]
          },
          "metadata": {
            "tags": []
          },
          "execution_count": 209
        },
        {
          "output_type": "display_data",
          "data": {
            "image/png": "[encoded data removed]",
            "text/plain": [
              "<Figure size 1440x216 with 1 Axes>"
            ]
          },
          "metadata": {
            "tags": [],
            "needs_background": "light"
          }
        }
      ]
    },
    {
      "cell_type": "code",
      "metadata": {
        "id": "CILf1tuXsXtp",
        "colab_type": "code",
        "colab": {
          "base_uri": "https://localhost:8080/",
          "height": 343
        },
        "outputId": "22b1bae2-0238-40d8-8dfb-dc72bb0b84e8"
      },
      "source": [
        "pd.crosstab(data_df['Mitoses'], data_df['Class'])"
      ],
      "execution_count": 210,
      "outputs": [
        {
          "output_type": "execute_result",
          "data": {
            "text/html": [
              "<div>\n",
              "<style scoped>\n",
              "    .dataframe tbody tr th:only-of-type {\n",
              "        vertical-align: middle;\n",
              "    }\n",
              "\n",
              "    .dataframe tbody tr th {\n",
              "        vertical-align: top;\n",
              "    }\n",
              "\n",
              "    .dataframe thead th {\n",
              "        text-align: right;\n",
              "    }\n",
              "</style>\n",
              "<table border=\"1\" class=\"dataframe\">\n",
              "  <thead>\n",
              "    <tr style=\"text-align: right;\">\n",
              "      <th>Class</th>\n",
              "      <th>2</th>\n",
              "      <th>4</th>\n",
              "    </tr>\n",
              "    <tr>\n",
              "      <th>Mitoses</th>\n",
              "      <th></th>\n",
              "      <th></th>\n",
              "    </tr>\n",
              "  </thead>\n",
              "  <tbody>\n",
              "    <tr>\n",
              "      <th>1</th>\n",
              "      <td>439</td>\n",
              "      <td>132</td>\n",
              "    </tr>\n",
              "    <tr>\n",
              "      <th>2</th>\n",
              "      <td>8</td>\n",
              "      <td>27</td>\n",
              "    </tr>\n",
              "    <tr>\n",
              "      <th>3</th>\n",
              "      <td>2</td>\n",
              "      <td>30</td>\n",
              "    </tr>\n",
              "    <tr>\n",
              "      <th>4</th>\n",
              "      <td>0</td>\n",
              "      <td>12</td>\n",
              "    </tr>\n",
              "    <tr>\n",
              "      <th>5</th>\n",
              "      <td>1</td>\n",
              "      <td>5</td>\n",
              "    </tr>\n",
              "    <tr>\n",
              "      <th>6</th>\n",
              "      <td>0</td>\n",
              "      <td>3</td>\n",
              "    </tr>\n",
              "    <tr>\n",
              "      <th>7</th>\n",
              "      <td>1</td>\n",
              "      <td>8</td>\n",
              "    </tr>\n",
              "    <tr>\n",
              "      <th>8</th>\n",
              "      <td>1</td>\n",
              "      <td>7</td>\n",
              "    </tr>\n",
              "    <tr>\n",
              "      <th>10</th>\n",
              "      <td>0</td>\n",
              "      <td>14</td>\n",
              "    </tr>\n",
              "  </tbody>\n",
              "</table>\n",
              "</div>"
            ],
            "text/plain": [
              "Class      2    4\n",
              "Mitoses          \n",
              "1        439  132\n",
              "2          8   27\n",
              "3          2   30\n",
              "4          0   12\n",
              "5          1    5\n",
              "6          0    3\n",
              "7          1    8\n",
              "8          1    7\n",
              "10         0   14"
            ]
          },
          "metadata": {
            "tags": []
          },
          "execution_count": 210
        }
      ]
    },
    {
      "cell_type": "code",
      "metadata": {
        "id": "bb7-KaacsX0E",
        "colab_type": "code",
        "colab": {}
      },
      "source": [
        "data_df['Mitoses'] = np.where(data_df['Mitoses'] > 3, 3, data_df['Mitoses'])"
      ],
      "execution_count": 211,
      "outputs": []
    },
    {
      "cell_type": "code",
      "metadata": {
        "id": "ToP5-x0xsX6s",
        "colab_type": "code",
        "colab": {
          "base_uri": "https://localhost:8080/",
          "height": 222
        },
        "outputId": "b58e35e9-0256-456d-9c10-af22ed7cf9b6"
      },
      "source": [
        "data_df.boxplot(figsize=(20,3))"
      ],
      "execution_count": 212,
      "outputs": [
        {
          "output_type": "execute_result",
          "data": {
            "text/plain": [
              "<matplotlib.axes._subplots.AxesSubplot at 0x7f3f82e1c9e8>"
            ]
          },
          "metadata": {
            "tags": []
          },
          "execution_count": 212
        },
        {
          "output_type": "display_data",
          "data": {
            "image/png": "[encoded data removed]",
            "text/plain": [
              "<Figure size 1440x216 with 1 Axes>"
            ]
          },
          "metadata": {
            "tags": [],
            "needs_background": "light"
          }
        }
      ]
    },
    {
      "cell_type": "code",
      "metadata": {
        "id": "cl32_fIItSmh",
        "colab_type": "code",
        "colab": {}
      },
      "source": [
        "data_new=data_df.drop(['Class'], axis=1)"
      ],
      "execution_count": 213,
      "outputs": []
    },
    {
      "cell_type": "code",
      "metadata": {
        "id": "zj7rOdpFtSw0",
        "colab_type": "code",
        "colab": {
          "base_uri": "https://localhost:8080/",
          "height": 360
        },
        "outputId": "8fa4562c-68c5-4e9d-fb99-db96ce66cfc2"
      },
      "source": [
        "data_new.head(10)"
      ],
      "execution_count": 214,
      "outputs": [
        {
          "output_type": "execute_result",
          "data": {
            "text/html": [
              "<div>\n",
              "<style scoped>\n",
              "    .dataframe tbody tr th:only-of-type {\n",
              "        vertical-align: middle;\n",
              "    }\n",
              "\n",
              "    .dataframe tbody tr th {\n",
              "        vertical-align: top;\n",
              "    }\n",
              "\n",
              "    .dataframe thead th {\n",
              "        text-align: right;\n",
              "    }\n",
              "</style>\n",
              "<table border=\"1\" class=\"dataframe\">\n",
              "  <thead>\n",
              "    <tr style=\"text-align: right;\">\n",
              "      <th></th>\n",
              "      <th>ClumpThickness</th>\n",
              "      <th>Cell Size</th>\n",
              "      <th>Cell Shape</th>\n",
              "      <th>Marginal Adhesion</th>\n",
              "      <th>Single Epithelial Cell Size</th>\n",
              "      <th>Bare Nuclei</th>\n",
              "      <th>Normal Nucleoli</th>\n",
              "      <th>Bland Chromatin</th>\n",
              "      <th>Mitoses</th>\n",
              "    </tr>\n",
              "  </thead>\n",
              "  <tbody>\n",
              "    <tr>\n",
              "      <th>0</th>\n",
              "      <td>5</td>\n",
              "      <td>1</td>\n",
              "      <td>1</td>\n",
              "      <td>1</td>\n",
              "      <td>2</td>\n",
              "      <td>1</td>\n",
              "      <td>3</td>\n",
              "      <td>1</td>\n",
              "      <td>1</td>\n",
              "    </tr>\n",
              "    <tr>\n",
              "      <th>1</th>\n",
              "      <td>5</td>\n",
              "      <td>4</td>\n",
              "      <td>4</td>\n",
              "      <td>5</td>\n",
              "      <td>6</td>\n",
              "      <td>10</td>\n",
              "      <td>3</td>\n",
              "      <td>2</td>\n",
              "      <td>1</td>\n",
              "    </tr>\n",
              "    <tr>\n",
              "      <th>2</th>\n",
              "      <td>3</td>\n",
              "      <td>1</td>\n",
              "      <td>1</td>\n",
              "      <td>1</td>\n",
              "      <td>2</td>\n",
              "      <td>2</td>\n",
              "      <td>3</td>\n",
              "      <td>1</td>\n",
              "      <td>1</td>\n",
              "    </tr>\n",
              "    <tr>\n",
              "      <th>3</th>\n",
              "      <td>6</td>\n",
              "      <td>8</td>\n",
              "      <td>8</td>\n",
              "      <td>1</td>\n",
              "      <td>3</td>\n",
              "      <td>4</td>\n",
              "      <td>3</td>\n",
              "      <td>6</td>\n",
              "      <td>1</td>\n",
              "    </tr>\n",
              "    <tr>\n",
              "      <th>4</th>\n",
              "      <td>4</td>\n",
              "      <td>1</td>\n",
              "      <td>1</td>\n",
              "      <td>3</td>\n",
              "      <td>2</td>\n",
              "      <td>1</td>\n",
              "      <td>3</td>\n",
              "      <td>1</td>\n",
              "      <td>1</td>\n",
              "    </tr>\n",
              "    <tr>\n",
              "      <th>5</th>\n",
              "      <td>8</td>\n",
              "      <td>10</td>\n",
              "      <td>10</td>\n",
              "      <td>6</td>\n",
              "      <td>6</td>\n",
              "      <td>10</td>\n",
              "      <td>7</td>\n",
              "      <td>6</td>\n",
              "      <td>1</td>\n",
              "    </tr>\n",
              "    <tr>\n",
              "      <th>6</th>\n",
              "      <td>1</td>\n",
              "      <td>1</td>\n",
              "      <td>1</td>\n",
              "      <td>1</td>\n",
              "      <td>2</td>\n",
              "      <td>10</td>\n",
              "      <td>3</td>\n",
              "      <td>1</td>\n",
              "      <td>1</td>\n",
              "    </tr>\n",
              "    <tr>\n",
              "      <th>7</th>\n",
              "      <td>2</td>\n",
              "      <td>1</td>\n",
              "      <td>2</td>\n",
              "      <td>1</td>\n",
              "      <td>2</td>\n",
              "      <td>1</td>\n",
              "      <td>3</td>\n",
              "      <td>1</td>\n",
              "      <td>1</td>\n",
              "    </tr>\n",
              "    <tr>\n",
              "      <th>8</th>\n",
              "      <td>2</td>\n",
              "      <td>1</td>\n",
              "      <td>1</td>\n",
              "      <td>1</td>\n",
              "      <td>2</td>\n",
              "      <td>1</td>\n",
              "      <td>1</td>\n",
              "      <td>1</td>\n",
              "      <td>3</td>\n",
              "    </tr>\n",
              "    <tr>\n",
              "      <th>9</th>\n",
              "      <td>4</td>\n",
              "      <td>2</td>\n",
              "      <td>1</td>\n",
              "      <td>1</td>\n",
              "      <td>2</td>\n",
              "      <td>1</td>\n",
              "      <td>2</td>\n",
              "      <td>1</td>\n",
              "      <td>1</td>\n",
              "    </tr>\n",
              "  </tbody>\n",
              "</table>\n",
              "</div>"
            ],
            "text/plain": [
              "   ClumpThickness  Cell Size  ...  Bland Chromatin  Mitoses\n",
              "0               5          1  ...                1        1\n",
              "1               5          4  ...                2        1\n",
              "2               3          1  ...                1        1\n",
              "3               6          8  ...                6        1\n",
              "4               4          1  ...                1        1\n",
              "5               8         10  ...                6        1\n",
              "6               1          1  ...                1        1\n",
              "7               2          1  ...                1        1\n",
              "8               2          1  ...                1        3\n",
              "9               4          2  ...                1        1\n",
              "\n",
              "[10 rows x 9 columns]"
            ]
          },
          "metadata": {
            "tags": []
          },
          "execution_count": 214
        }
      ]
    },
    {
      "cell_type": "code",
      "metadata": {
        "id": "wLV_97jXtjby",
        "colab_type": "code",
        "colab": {
          "base_uri": "https://localhost:8080/",
          "height": 34
        },
        "outputId": "d657cd14-e3ee-4a12-da4d-747b5dd460cb"
      },
      "source": [
        "data_new.shape"
      ],
      "execution_count": 215,
      "outputs": [
        {
          "output_type": "execute_result",
          "data": {
            "text/plain": [
              "(690, 9)"
            ]
          },
          "metadata": {
            "tags": []
          },
          "execution_count": 215
        }
      ]
    },
    {
      "cell_type": "code",
      "metadata": {
        "id": "hiuTkLNot4mR",
        "colab_type": "code",
        "colab": {}
      },
      "source": [
        "#Standardized data with Z score "
      ],
      "execution_count": 216,
      "outputs": []
    },
    {
      "cell_type": "code",
      "metadata": {
        "id": "MzL5-2Yet4vR",
        "colab_type": "code",
        "colab": {}
      },
      "source": [
        "from scipy.stats import zscore"
      ],
      "execution_count": 217,
      "outputs": []
    },
    {
      "cell_type": "code",
      "metadata": {
        "id": "dD2REyTzt47h",
        "colab_type": "code",
        "colab": {
          "base_uri": "https://localhost:8080/",
          "height": 212
        },
        "outputId": "5a9b57ea-0c3b-49e4-f8b0-3bddfd615d98"
      },
      "source": [
        "data_new = data_new.apply(zscore)\n",
        "data_new.head()"
      ],
      "execution_count": 218,
      "outputs": [
        {
          "output_type": "execute_result",
          "data": {
            "text/html": [
              "<div>\n",
              "<style scoped>\n",
              "    .dataframe tbody tr th:only-of-type {\n",
              "        vertical-align: middle;\n",
              "    }\n",
              "\n",
              "    .dataframe tbody tr th {\n",
              "        vertical-align: top;\n",
              "    }\n",
              "\n",
              "    .dataframe thead th {\n",
              "        text-align: right;\n",
              "    }\n",
              "</style>\n",
              "<table border=\"1\" class=\"dataframe\">\n",
              "  <thead>\n",
              "    <tr style=\"text-align: right;\">\n",
              "      <th></th>\n",
              "      <th>ClumpThickness</th>\n",
              "      <th>Cell Size</th>\n",
              "      <th>Cell Shape</th>\n",
              "      <th>Marginal Adhesion</th>\n",
              "      <th>Single Epithelial Cell Size</th>\n",
              "      <th>Bare Nuclei</th>\n",
              "      <th>Normal Nucleoli</th>\n",
              "      <th>Bland Chromatin</th>\n",
              "      <th>Mitoses</th>\n",
              "    </tr>\n",
              "  </thead>\n",
              "  <tbody>\n",
              "    <tr>\n",
              "      <th>0</th>\n",
              "      <td>0.202823</td>\n",
              "      <td>-0.701698</td>\n",
              "      <td>-0.745040</td>\n",
              "      <td>-0.717738</td>\n",
              "      <td>-0.606754</td>\n",
              "      <td>-0.686858</td>\n",
              "      <td>-0.131401</td>\n",
              "      <td>-0.673794</td>\n",
              "      <td>-0.438024</td>\n",
              "    </tr>\n",
              "    <tr>\n",
              "      <th>1</th>\n",
              "      <td>0.202823</td>\n",
              "      <td>0.285065</td>\n",
              "      <td>0.268920</td>\n",
              "      <td>1.339330</td>\n",
              "      <td>1.934431</td>\n",
              "      <td>1.803153</td>\n",
              "      <td>-0.131401</td>\n",
              "      <td>-0.181817</td>\n",
              "      <td>-0.438024</td>\n",
              "    </tr>\n",
              "    <tr>\n",
              "      <th>2</th>\n",
              "      <td>-0.507572</td>\n",
              "      <td>-0.701698</td>\n",
              "      <td>-0.745040</td>\n",
              "      <td>-0.717738</td>\n",
              "      <td>-0.606754</td>\n",
              "      <td>-0.410190</td>\n",
              "      <td>-0.131401</td>\n",
              "      <td>-0.673794</td>\n",
              "      <td>-0.438024</td>\n",
              "    </tr>\n",
              "    <tr>\n",
              "      <th>3</th>\n",
              "      <td>0.558020</td>\n",
              "      <td>1.600748</td>\n",
              "      <td>1.620866</td>\n",
              "      <td>-0.717738</td>\n",
              "      <td>0.028542</td>\n",
              "      <td>0.143146</td>\n",
              "      <td>-0.131401</td>\n",
              "      <td>1.786088</td>\n",
              "      <td>-0.438024</td>\n",
              "    </tr>\n",
              "    <tr>\n",
              "      <th>4</th>\n",
              "      <td>-0.152375</td>\n",
              "      <td>-0.701698</td>\n",
              "      <td>-0.745040</td>\n",
              "      <td>0.310796</td>\n",
              "      <td>-0.606754</td>\n",
              "      <td>-0.686858</td>\n",
              "      <td>-0.131401</td>\n",
              "      <td>-0.673794</td>\n",
              "      <td>-0.438024</td>\n",
              "    </tr>\n",
              "  </tbody>\n",
              "</table>\n",
              "</div>"
            ],
            "text/plain": [
              "   ClumpThickness  Cell Size  ...  Bland Chromatin   Mitoses\n",
              "0        0.202823  -0.701698  ...        -0.673794 -0.438024\n",
              "1        0.202823   0.285065  ...        -0.181817 -0.438024\n",
              "2       -0.507572  -0.701698  ...        -0.673794 -0.438024\n",
              "3        0.558020   1.600748  ...         1.786088 -0.438024\n",
              "4       -0.152375  -0.701698  ...        -0.673794 -0.438024\n",
              "\n",
              "[5 rows x 9 columns]"
            ]
          },
          "metadata": {
            "tags": []
          },
          "execution_count": 218
        }
      ]
    },
    {
      "cell_type": "markdown",
      "metadata": {
        "id": "HoQwj5o1IVwg",
        "colab_type": "text"
      },
      "source": [
        "# **Q6 Create a covariance matrix for identifying Principal components**"
      ]
    },
    {
      "cell_type": "code",
      "metadata": {
        "id": "XWs481ttIbHA",
        "colab_type": "code",
        "colab": {}
      },
      "source": [
        "# PCA\n",
        "# Step 1 - Create covariance matrix"
      ],
      "execution_count": 219,
      "outputs": []
    },
    {
      "cell_type": "code",
      "metadata": {
        "id": "Mz3u8oBwzQbv",
        "colab_type": "code",
        "colab": {
          "base_uri": "https://localhost:8080/",
          "height": 319
        },
        "outputId": "b81b28c7-eaf9-41bd-84e4-81220e8e8865"
      },
      "source": [
        "cov_matrix = np.cov(data_new.T)\n",
        "print(\"Covariance Matrix\", cov_matrix)"
      ],
      "execution_count": 220,
      "outputs": [
        {
          "output_type": "stream",
          "text": [
            "Covariance Matrix [[1.00145138 0.64410677 0.65453792 0.52967571 0.56014292 0.59150555\n",
            "  0.57632311 0.5573719  0.42745595]\n",
            " [0.64410677 1.00145138 0.9066632  0.73739949 0.78736392 0.68556472\n",
            "  0.74749076 0.73254055 0.51098944]\n",
            " [0.65453792 0.9066632  1.00145138 0.71499206 0.75864187 0.70518656\n",
            "  0.73047144 0.72736411 0.48167882]\n",
            " [0.52967571 0.73739949 0.71499206 1.00145138 0.68674237 0.70175121\n",
            "  0.6931809  0.6562427  0.45304643]\n",
            " [0.56014292 0.78736392 0.75864187 0.68674237 1.00145138 0.64591131\n",
            "  0.67167598 0.70333283 0.49711992]\n",
            " [0.59150555 0.68556472 0.70518656 0.70175121 0.64591131 1.00145138\n",
            "  0.69379705 0.62721796 0.45258904]\n",
            " [0.57632311 0.74749076 0.73047144 0.6931809  0.67167598 0.69379705\n",
            "  1.00145138 0.68956763 0.41318259]\n",
            " [0.5573719  0.73254055 0.72736411 0.6562427  0.70333283 0.62721796\n",
            "  0.68956763 1.00145138 0.4868789 ]\n",
            " [0.42745595 0.51098944 0.48167882 0.45304643 0.49711992 0.45258904\n",
            "  0.41318259 0.4868789  1.00145138]]\n"
          ],
          "name": "stdout"
        }
      ]
    },
    {
      "cell_type": "code",
      "metadata": {
        "id": "ORsfdRiOzQmH",
        "colab_type": "code",
        "colab": {
          "base_uri": "https://localhost:8080/",
          "height": 34
        },
        "outputId": "6bcc07ad-7826-4c81-da97-6d9cc39573e0"
      },
      "source": [
        "cov_matrix_error = np.cov(data_new)\n",
        "cov_matrix_error.shape"
      ],
      "execution_count": 221,
      "outputs": [
        {
          "output_type": "execute_result",
          "data": {
            "text/plain": [
              "(690, 690)"
            ]
          },
          "metadata": {
            "tags": []
          },
          "execution_count": 221
        }
      ]
    },
    {
      "cell_type": "markdown",
      "metadata": {
        "id": "Gkk-0ptkId-w",
        "colab_type": "text"
      },
      "source": [
        "### **Q7 Identify eigen values and eigen vector**"
      ]
    },
    {
      "cell_type": "code",
      "metadata": {
        "id": "2vWbG5R2IhCD",
        "colab_type": "code",
        "colab": {}
      },
      "source": [
        "# Step 2- Get eigen values and eigen vector"
      ],
      "execution_count": 222,
      "outputs": []
    },
    {
      "cell_type": "code",
      "metadata": {
        "id": "JLNPkkcQzsiQ",
        "colab_type": "code",
        "colab": {
          "base_uri": "https://localhost:8080/",
          "height": 353
        },
        "outputId": "2c9b4bb8-232f-47a8-ea15-74217985666e"
      },
      "source": [
        "eig_vals, eig_vecs = np.linalg.eig(cov_matrix)\n",
        "print('Eigen Vectors', eig_vecs)\n",
        "print('Eigen values', eig_vals)"
      ],
      "execution_count": 224,
      "outputs": [
        {
          "output_type": "stream",
          "text": [
            "Eigen Vectors [[-0.29990877  0.02532633 -0.90458698  0.01009283  0.04011602 -0.02496126\n",
            "  -0.16812883 -0.1942323  -0.15102311]\n",
            " [-0.371028   -0.07826688  0.03615884  0.73585974  0.29013384  0.27700055\n",
            "   0.29553659  0.00255389  0.25526487]\n",
            " [-0.36727544 -0.11650277 -0.02943677 -0.66233934  0.26173086  0.26192054\n",
            "   0.46290204  0.09908916  0.22532989]\n",
            " [-0.33820232 -0.13252818  0.28370519 -0.05299714 -0.37433331  0.28321095\n",
            "  -0.03171908 -0.70498634 -0.2577061 ]\n",
            " [-0.34586466 -0.01060724  0.21664633 -0.07240532  0.33116552  0.30291277\n",
            "  -0.66941156  0.3320389  -0.2613399 ]\n",
            " [-0.333385   -0.11428531 -0.04605473  0.08435088 -0.67484899 -0.0023807\n",
            "   0.18226948  0.58009444 -0.20346657]\n",
            " [-0.3411041  -0.23601998  0.082477   -0.05380154 -0.1675929  -0.44173582\n",
            "  -0.36926402 -0.07274827  0.67333451]\n",
            " [-0.33804873 -0.01023424  0.19059208  0.02486003  0.31543401 -0.69755129\n",
            "   0.22666287 -0.05206477 -0.45663086]\n",
            " [-0.24844318  0.94504626  0.08291743 -0.03219093 -0.11360828 -0.01914864\n",
            "   0.00636018 -0.02608541  0.15250436]]\n",
            "Eigen values [6.1385175  0.67890047 0.51767997 0.08995476 0.42566226 0.33771001\n",
            " 0.25423085 0.28009629 0.2903103 ]\n"
          ],
          "name": "stdout"
        }
      ]
    },
    {
      "cell_type": "code",
      "metadata": {
        "id": "VRM5FxH9zss-",
        "colab_type": "code",
        "colab": {}
      },
      "source": [
        ""
      ],
      "execution_count": 223,
      "outputs": []
    },
    {
      "cell_type": "markdown",
      "metadata": {
        "id": "65BNcpMiIhqw",
        "colab_type": "text"
      },
      "source": [
        "### **Q8 Find variance and cumulative variance by each eigen vector**"
      ]
    },
    {
      "cell_type": "code",
      "metadata": {
        "id": "cq4dSUDbIlvF",
        "colab_type": "code",
        "colab": {
          "base_uri": "https://localhost:8080/",
          "height": 168
        },
        "outputId": "fe4450cb-0545-46c9-893d-3056bec4b470"
      },
      "source": [
        "tot = sum(eig_vals)\n",
        "var_exp = [(i/tot) *  100 for i in sorted(eig_vals, reverse = True)]\n",
        "var_exp"
      ],
      "execution_count": 225,
      "outputs": [
        {
          "output_type": "execute_result",
          "data": {
            "text/plain": [
              "[68.10690113479974,\n",
              " 7.532406231449151,\n",
              " 5.743663405164425,\n",
              " 4.7227261530745634,\n",
              " 3.746895301526102,\n",
              " 3.2209950681685404,\n",
              " 3.107670561554323,\n",
              " 2.8206933212456144,\n",
              " 0.9980488230175425]"
            ]
          },
          "metadata": {
            "tags": []
          },
          "execution_count": 225
        }
      ]
    },
    {
      "cell_type": "code",
      "metadata": {
        "id": "-rwuqYQF1Kqu",
        "colab_type": "code",
        "colab": {
          "base_uri": "https://localhost:8080/",
          "height": 282
        },
        "outputId": "35be5e39-39da-4720-fb5b-8219ef4daea2"
      },
      "source": [
        "plt.plot(var_exp)"
      ],
      "execution_count": 226,
      "outputs": [
        {
          "output_type": "execute_result",
          "data": {
            "text/plain": [
              "[<matplotlib.lines.Line2D at 0x7f3f82c85400>]"
            ]
          },
          "metadata": {
            "tags": []
          },
          "execution_count": 226
        },
        {
          "output_type": "display_data",
          "data": {
            "image/png": "[encoded data removed]",
            "text/plain": [
              "<Figure size 432x288 with 1 Axes>"
            ]
          },
          "metadata": {
            "tags": [],
            "needs_background": "light"
          }
        }
      ]
    },
    {
      "cell_type": "code",
      "metadata": {
        "id": "yVC3fvoF1OgA",
        "colab_type": "code",
        "colab": {
          "base_uri": "https://localhost:8080/",
          "height": 50
        },
        "outputId": "af2f1a31-a716-4bc8-a923-ff1670ccd969"
      },
      "source": [
        "cum_var_exp = np.cumsum(var_exp)\n",
        "print(\"Cumulative Variance Explained\", cum_var_exp)"
      ],
      "execution_count": 227,
      "outputs": [
        {
          "output_type": "stream",
          "text": [
            "Cumulative Variance Explained [ 68.10690113  75.63930737  81.38297077  86.10569692  89.85259223\n",
            "  93.07358729  96.18125786  99.00195118 100.        ]\n"
          ],
          "name": "stdout"
        }
      ]
    },
    {
      "cell_type": "code",
      "metadata": {
        "id": "DPizPyxs1OoR",
        "colab_type": "code",
        "colab": {
          "base_uri": "https://localhost:8080/",
          "height": 282
        },
        "outputId": "792ad0d8-46fa-4190-e850-b3e51b4ade71"
      },
      "source": [
        "plt.bar(range(1,eig_vals.size + 1), var_exp, align ='center', label = 'Individual variance explained')"
      ],
      "execution_count": 228,
      "outputs": [
        {
          "output_type": "execute_result",
          "data": {
            "text/plain": [
              "<BarContainer object of 9 artists>"
            ]
          },
          "metadata": {
            "tags": []
          },
          "execution_count": 228
        },
        {
          "output_type": "display_data",
          "data": {
            "image/png": "[encoded data removed]",
            "text/plain": [
              "<Figure size 432x288 with 1 Axes>"
            ]
          },
          "metadata": {
            "tags": [],
            "needs_background": "light"
          }
        }
      ]
    },
    {
      "cell_type": "code",
      "metadata": {
        "id": "v4x9rr_B1OwQ",
        "colab_type": "code",
        "colab": {
          "base_uri": "https://localhost:8080/",
          "height": 279
        },
        "outputId": "3927956a-1545-4b28-907e-659c3800d04f"
      },
      "source": [
        "plt.bar(range(1, eig_vals.size +1), var_exp, align = 'center', label = 'Individual Variance Explained')\n",
        "plt.step(range(1, eig_vals.size +1), cum_var_exp, where = 'mid', label = 'Cummulative Variance Explained')\n",
        "plt.ylabel('Explained Variance')\n",
        "plt.xlabel('Principal Components')\n",
        "plt.legend(loc='best')\n",
        "plt.show()"
      ],
      "execution_count": 229,
      "outputs": [
        {
          "output_type": "display_data",
          "data": {
            "image/png": "[encoded data removed]",
            "text/plain": [
              "<Figure size 432x288 with 1 Axes>"
            ]
          },
          "metadata": {
            "tags": [],
            "needs_background": "light"
          }
        }
      ]
    },
    {
      "cell_type": "markdown",
      "metadata": {
        "id": "ovumiumWIrj7",
        "colab_type": "text"
      },
      "source": [
        "**Q9 Use PCA command from sklearn and find Principal Components. Transform data to components formed**"
      ]
    },
    {
      "cell_type": "code",
      "metadata": {
        "id": "0y3pwTCRIu5K",
        "colab_type": "code",
        "colab": {}
      },
      "source": [
        "from sklearn.decomposition import PCA"
      ],
      "execution_count": 231,
      "outputs": []
    },
    {
      "cell_type": "code",
      "metadata": {
        "id": "1Gc_ye4X1Zro",
        "colab_type": "code",
        "colab": {
          "base_uri": "https://localhost:8080/",
          "height": 235
        },
        "outputId": "da5def77-83d3-4c91-f7ea-4c0c0d1ff601"
      },
      "source": [
        "pca = PCA(n_components = 7) # 95% of variance is captured using first7 PCs\n",
        "data_reduced = pca.fit_transform(data_new)\n",
        "data_reduced.transpose()"
      ],
      "execution_count": 232,
      "outputs": [
        {
          "output_type": "execute_result",
          "data": {
            "text/plain": [
              "array([[-1.53615998,  1.77341453, -1.65697669, ...,  3.9397629 ,\n",
              "         2.32971054,  2.73124468],\n",
              "       [-0.04913431, -0.8336753 , -0.09874508, ...,  0.07199281,\n",
              "        -1.21460091, -1.3897963 ],\n",
              "       [-0.66593292,  0.45312887, -0.03606089, ...,  0.91731031,\n",
              "         0.85143017,  0.91479111],\n",
              "       ...,\n",
              "       [-0.24356669,  1.29857886, -0.226493  , ..., -0.15026113,\n",
              "        -1.08154121,  0.11929411],\n",
              "       [-0.25805548,  1.18710093, -0.30904885, ..., -1.03968822,\n",
              "        -0.70297977, -0.94974911],\n",
              "       [-0.15285929,  0.7625279 ,  0.14561584, ...,  0.29073247,\n",
              "        -0.57196966, -0.44487335]])"
            ]
          },
          "metadata": {
            "tags": []
          },
          "execution_count": 232
        }
      ]
    },
    {
      "cell_type": "code",
      "metadata": {
        "id": "bJIr9W_A1Z15",
        "colab_type": "code",
        "colab": {
          "base_uri": "https://localhost:8080/",
          "height": 252
        },
        "outputId": "f398df61-a416-426e-bc46-c20891f71a9f"
      },
      "source": [
        "pca.components_"
      ],
      "execution_count": 233,
      "outputs": [
        {
          "output_type": "execute_result",
          "data": {
            "text/plain": [
              "array([[ 0.29990877,  0.371028  ,  0.36727544,  0.33820232,  0.34586466,\n",
              "         0.333385  ,  0.3411041 ,  0.33804873,  0.24844318],\n",
              "       [ 0.02532633, -0.07826688, -0.11650277, -0.13252818, -0.01060724,\n",
              "        -0.11428531, -0.23601998, -0.01023424,  0.94504626],\n",
              "       [-0.90458698,  0.03615884, -0.02943677,  0.28370519,  0.21664633,\n",
              "        -0.04605473,  0.082477  ,  0.19059208,  0.08291743],\n",
              "       [ 0.04011602,  0.29013384,  0.26173086, -0.37433331,  0.33116552,\n",
              "        -0.67484899, -0.1675929 ,  0.31543401, -0.11360828],\n",
              "       [-0.02496126,  0.27700055,  0.26192054,  0.28321095,  0.30291277,\n",
              "        -0.0023807 , -0.44173582, -0.69755129, -0.01914864],\n",
              "       [ 0.15102311, -0.25526487, -0.22532989,  0.2577061 ,  0.2613399 ,\n",
              "         0.20346657, -0.67333451,  0.45663086, -0.15250436],\n",
              "       [-0.1942323 ,  0.00255389,  0.09908916, -0.70498634,  0.3320389 ,\n",
              "         0.58009444, -0.07274827, -0.05206477, -0.02608541]])"
            ]
          },
          "metadata": {
            "tags": []
          },
          "execution_count": 233
        }
      ]
    },
    {
      "cell_type": "markdown",
      "metadata": {
        "id": "7_kkt9LaIw24",
        "colab_type": "text"
      },
      "source": [
        "**Q10 Find correlation between components and features**"
      ]
    },
    {
      "cell_type": "code",
      "metadata": {
        "id": "6_Y2LlzjIy-M",
        "colab_type": "code",
        "colab": {
          "base_uri": "https://localhost:8080/",
          "height": 168
        },
        "outputId": "51f0a43a-268e-44b1-bf3f-7cfa90979f05"
      },
      "source": [
        "list(data_new)"
      ],
      "execution_count": 234,
      "outputs": [
        {
          "output_type": "execute_result",
          "data": {
            "text/plain": [
              "['ClumpThickness',\n",
              " 'Cell Size',\n",
              " 'Cell Shape',\n",
              " 'Marginal Adhesion',\n",
              " 'Single Epithelial Cell Size',\n",
              " 'Bare Nuclei',\n",
              " 'Normal Nucleoli',\n",
              " 'Bland Chromatin',\n",
              " 'Mitoses']"
            ]
          },
          "metadata": {
            "tags": []
          },
          "execution_count": 234
        }
      ]
    },
    {
      "cell_type": "code",
      "metadata": {
        "id": "ipQE68Nw1h8c",
        "colab_type": "code",
        "colab": {
          "base_uri": "https://localhost:8080/",
          "height": 271
        },
        "outputId": "fb0c0f6a-88ae-4e5b-f2c7-e0d956ec1f06"
      },
      "source": [
        "df_comp_feat = pd.DataFrame(pca.components_, columns = list(data_new))\n",
        "df_comp_feat"
      ],
      "execution_count": 235,
      "outputs": [
        {
          "output_type": "execute_result",
          "data": {
            "text/html": [
              "<div>\n",
              "<style scoped>\n",
              "    .dataframe tbody tr th:only-of-type {\n",
              "        vertical-align: middle;\n",
              "    }\n",
              "\n",
              "    .dataframe tbody tr th {\n",
              "        vertical-align: top;\n",
              "    }\n",
              "\n",
              "    .dataframe thead th {\n",
              "        text-align: right;\n",
              "    }\n",
              "</style>\n",
              "<table border=\"1\" class=\"dataframe\">\n",
              "  <thead>\n",
              "    <tr style=\"text-align: right;\">\n",
              "      <th></th>\n",
              "      <th>ClumpThickness</th>\n",
              "      <th>Cell Size</th>\n",
              "      <th>Cell Shape</th>\n",
              "      <th>Marginal Adhesion</th>\n",
              "      <th>Single Epithelial Cell Size</th>\n",
              "      <th>Bare Nuclei</th>\n",
              "      <th>Normal Nucleoli</th>\n",
              "      <th>Bland Chromatin</th>\n",
              "      <th>Mitoses</th>\n",
              "    </tr>\n",
              "  </thead>\n",
              "  <tbody>\n",
              "    <tr>\n",
              "      <th>0</th>\n",
              "      <td>0.299909</td>\n",
              "      <td>0.371028</td>\n",
              "      <td>0.367275</td>\n",
              "      <td>0.338202</td>\n",
              "      <td>0.345865</td>\n",
              "      <td>0.333385</td>\n",
              "      <td>0.341104</td>\n",
              "      <td>0.338049</td>\n",
              "      <td>0.248443</td>\n",
              "    </tr>\n",
              "    <tr>\n",
              "      <th>1</th>\n",
              "      <td>0.025326</td>\n",
              "      <td>-0.078267</td>\n",
              "      <td>-0.116503</td>\n",
              "      <td>-0.132528</td>\n",
              "      <td>-0.010607</td>\n",
              "      <td>-0.114285</td>\n",
              "      <td>-0.236020</td>\n",
              "      <td>-0.010234</td>\n",
              "      <td>0.945046</td>\n",
              "    </tr>\n",
              "    <tr>\n",
              "      <th>2</th>\n",
              "      <td>-0.904587</td>\n",
              "      <td>0.036159</td>\n",
              "      <td>-0.029437</td>\n",
              "      <td>0.283705</td>\n",
              "      <td>0.216646</td>\n",
              "      <td>-0.046055</td>\n",
              "      <td>0.082477</td>\n",
              "      <td>0.190592</td>\n",
              "      <td>0.082917</td>\n",
              "    </tr>\n",
              "    <tr>\n",
              "      <th>3</th>\n",
              "      <td>0.040116</td>\n",
              "      <td>0.290134</td>\n",
              "      <td>0.261731</td>\n",
              "      <td>-0.374333</td>\n",
              "      <td>0.331166</td>\n",
              "      <td>-0.674849</td>\n",
              "      <td>-0.167593</td>\n",
              "      <td>0.315434</td>\n",
              "      <td>-0.113608</td>\n",
              "    </tr>\n",
              "    <tr>\n",
              "      <th>4</th>\n",
              "      <td>-0.024961</td>\n",
              "      <td>0.277001</td>\n",
              "      <td>0.261921</td>\n",
              "      <td>0.283211</td>\n",
              "      <td>0.302913</td>\n",
              "      <td>-0.002381</td>\n",
              "      <td>-0.441736</td>\n",
              "      <td>-0.697551</td>\n",
              "      <td>-0.019149</td>\n",
              "    </tr>\n",
              "    <tr>\n",
              "      <th>5</th>\n",
              "      <td>0.151023</td>\n",
              "      <td>-0.255265</td>\n",
              "      <td>-0.225330</td>\n",
              "      <td>0.257706</td>\n",
              "      <td>0.261340</td>\n",
              "      <td>0.203467</td>\n",
              "      <td>-0.673335</td>\n",
              "      <td>0.456631</td>\n",
              "      <td>-0.152504</td>\n",
              "    </tr>\n",
              "    <tr>\n",
              "      <th>6</th>\n",
              "      <td>-0.194232</td>\n",
              "      <td>0.002554</td>\n",
              "      <td>0.099089</td>\n",
              "      <td>-0.704986</td>\n",
              "      <td>0.332039</td>\n",
              "      <td>0.580094</td>\n",
              "      <td>-0.072748</td>\n",
              "      <td>-0.052065</td>\n",
              "      <td>-0.026085</td>\n",
              "    </tr>\n",
              "  </tbody>\n",
              "</table>\n",
              "</div>"
            ],
            "text/plain": [
              "   ClumpThickness  Cell Size  ...  Bland Chromatin   Mitoses\n",
              "0        0.299909   0.371028  ...         0.338049  0.248443\n",
              "1        0.025326  -0.078267  ...        -0.010234  0.945046\n",
              "2       -0.904587   0.036159  ...         0.190592  0.082917\n",
              "3        0.040116   0.290134  ...         0.315434 -0.113608\n",
              "4       -0.024961   0.277001  ...        -0.697551 -0.019149\n",
              "5        0.151023  -0.255265  ...         0.456631 -0.152504\n",
              "6       -0.194232   0.002554  ...        -0.052065 -0.026085\n",
              "\n",
              "[7 rows x 9 columns]"
            ]
          },
          "metadata": {
            "tags": []
          },
          "execution_count": 235
        }
      ]
    },
    {
      "cell_type": "code",
      "metadata": {
        "id": "raZaXlri1iFz",
        "colab_type": "code",
        "colab": {
          "base_uri": "https://localhost:8080/",
          "height": 398
        },
        "outputId": "aa81b339-c34a-4e8a-a9ce-21fba931ce47"
      },
      "source": [
        "sns.heatmap(df_comp_feat, cmap=\"plasma\")"
      ],
      "execution_count": 239,
      "outputs": [
        {
          "output_type": "execute_result",
          "data": {
            "text/plain": [
              "<matplotlib.axes._subplots.AxesSubplot at 0x7f3f7e517c18>"
            ]
          },
          "metadata": {
            "tags": []
          },
          "execution_count": 239
        },
        {
          "output_type": "display_data",
          "data": {
            "image/png": "[encoded data removed]",
            "text/plain": [
              "<Figure size 432x288 with 2 Axes>"
            ]
          },
          "metadata": {
            "tags": [],
            "needs_background": "light"
          }
        }
      ]
    }
  ]
}